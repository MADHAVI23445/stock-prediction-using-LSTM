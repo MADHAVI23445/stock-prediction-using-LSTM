{
  "cells": [
    {
      "cell_type": "markdown",
      "metadata": {
        "id": "vngKd1pNb19B"
      },
      "source": [
        "### Stock Market Prediction And Forecasting Using Stacked LSTM"
      ]
    },
    {
      "cell_type": "code",
      "execution_count": null,
      "metadata": {
        "id": "fYPx81Gxb19H"
      },
      "outputs": [],
      "source": [
        "### Keras and Tensorflow >2.0"
      ]
    },
    {
      "cell_type": "code",
      "execution_count": null,
      "metadata": {
        "id": "VIcUfjqDb19M"
      },
      "outputs": [],
      "source": [
        "import pandas as pd"
      ]
    },
    {
      "cell_type": "code",
      "execution_count": null,
      "metadata": {
        "id": "1ybX2vA1b19M"
      },
      "outputs": [],
      "source": [
        "df=pd.read_csv('STOCK_VAL.csv')"
      ]
    },
    {
      "cell_type": "code",
      "execution_count": null,
      "metadata": {
        "colab": {
          "base_uri": "https://localhost:8080/",
          "height": 206
        },
        "id": "oLFb0qYHb19N",
        "outputId": "c085332e-a7a9-494f-fa35-5164e9aa6a73"
      },
      "outputs": [
        {
          "output_type": "execute_result",
          "data": {
            "text/plain": [
              "         DATE     OPEN     HIGH      LOW    CLOSE  NO. OF SHARES  \\\n",
              "0  09-02-2023  4626.90  4658.00  4585.00  4637.60           1722   \n",
              "1  08-02-2023  4597.05  4637.05  4578.00  4590.95           3670   \n",
              "2  07-02-2023  4630.00  4661.50  4595.95  4605.35           5979   \n",
              "3  06-02-2023  4602.00  4634.10  4602.00  4626.60           4502   \n",
              "4  03-02-2023  4590.00  4656.45  4571.50  4624.80          26221   \n",
              "\n",
              "   NO. OF TRADES  Market Capitalization  \n",
              "0            607           7.958223e+06  \n",
              "1            906           1.690962e+07  \n",
              "2           1589           2.767515e+07  \n",
              "3           1230           2.079046e+07  \n",
              "4           4118           1.209830e+08  "
            ],
            "text/html": [
              "\n",
              "  <div id=\"df-4bc9293e-d568-491a-b5ef-d185e7846eda\">\n",
              "    <div class=\"colab-df-container\">\n",
              "      <div>\n",
              "<style scoped>\n",
              "    .dataframe tbody tr th:only-of-type {\n",
              "        vertical-align: middle;\n",
              "    }\n",
              "\n",
              "    .dataframe tbody tr th {\n",
              "        vertical-align: top;\n",
              "    }\n",
              "\n",
              "    .dataframe thead th {\n",
              "        text-align: right;\n",
              "    }\n",
              "</style>\n",
              "<table border=\"1\" class=\"dataframe\">\n",
              "  <thead>\n",
              "    <tr style=\"text-align: right;\">\n",
              "      <th></th>\n",
              "      <th>DATE</th>\n",
              "      <th>OPEN</th>\n",
              "      <th>HIGH</th>\n",
              "      <th>LOW</th>\n",
              "      <th>CLOSE</th>\n",
              "      <th>NO. OF SHARES</th>\n",
              "      <th>NO. OF TRADES</th>\n",
              "      <th>Market Capitalization</th>\n",
              "    </tr>\n",
              "  </thead>\n",
              "  <tbody>\n",
              "    <tr>\n",
              "      <th>0</th>\n",
              "      <td>09-02-2023</td>\n",
              "      <td>4626.90</td>\n",
              "      <td>4658.00</td>\n",
              "      <td>4585.00</td>\n",
              "      <td>4637.60</td>\n",
              "      <td>1722</td>\n",
              "      <td>607</td>\n",
              "      <td>7.958223e+06</td>\n",
              "    </tr>\n",
              "    <tr>\n",
              "      <th>1</th>\n",
              "      <td>08-02-2023</td>\n",
              "      <td>4597.05</td>\n",
              "      <td>4637.05</td>\n",
              "      <td>4578.00</td>\n",
              "      <td>4590.95</td>\n",
              "      <td>3670</td>\n",
              "      <td>906</td>\n",
              "      <td>1.690962e+07</td>\n",
              "    </tr>\n",
              "    <tr>\n",
              "      <th>2</th>\n",
              "      <td>07-02-2023</td>\n",
              "      <td>4630.00</td>\n",
              "      <td>4661.50</td>\n",
              "      <td>4595.95</td>\n",
              "      <td>4605.35</td>\n",
              "      <td>5979</td>\n",
              "      <td>1589</td>\n",
              "      <td>2.767515e+07</td>\n",
              "    </tr>\n",
              "    <tr>\n",
              "      <th>3</th>\n",
              "      <td>06-02-2023</td>\n",
              "      <td>4602.00</td>\n",
              "      <td>4634.10</td>\n",
              "      <td>4602.00</td>\n",
              "      <td>4626.60</td>\n",
              "      <td>4502</td>\n",
              "      <td>1230</td>\n",
              "      <td>2.079046e+07</td>\n",
              "    </tr>\n",
              "    <tr>\n",
              "      <th>4</th>\n",
              "      <td>03-02-2023</td>\n",
              "      <td>4590.00</td>\n",
              "      <td>4656.45</td>\n",
              "      <td>4571.50</td>\n",
              "      <td>4624.80</td>\n",
              "      <td>26221</td>\n",
              "      <td>4118</td>\n",
              "      <td>1.209830e+08</td>\n",
              "    </tr>\n",
              "  </tbody>\n",
              "</table>\n",
              "</div>\n",
              "      <button class=\"colab-df-convert\" onclick=\"convertToInteractive('df-4bc9293e-d568-491a-b5ef-d185e7846eda')\"\n",
              "              title=\"Convert this dataframe to an interactive table.\"\n",
              "              style=\"display:none;\">\n",
              "        \n",
              "  <svg xmlns=\"http://www.w3.org/2000/svg\" height=\"24px\"viewBox=\"0 0 24 24\"\n",
              "       width=\"24px\">\n",
              "    <path d=\"M0 0h24v24H0V0z\" fill=\"none\"/>\n",
              "    <path d=\"M18.56 5.44l.94 2.06.94-2.06 2.06-.94-2.06-.94-.94-2.06-.94 2.06-2.06.94zm-11 1L8.5 8.5l.94-2.06 2.06-.94-2.06-.94L8.5 2.5l-.94 2.06-2.06.94zm10 10l.94 2.06.94-2.06 2.06-.94-2.06-.94-.94-2.06-.94 2.06-2.06.94z\"/><path d=\"M17.41 7.96l-1.37-1.37c-.4-.4-.92-.59-1.43-.59-.52 0-1.04.2-1.43.59L10.3 9.45l-7.72 7.72c-.78.78-.78 2.05 0 2.83L4 21.41c.39.39.9.59 1.41.59.51 0 1.02-.2 1.41-.59l7.78-7.78 2.81-2.81c.8-.78.8-2.07 0-2.86zM5.41 20L4 18.59l7.72-7.72 1.47 1.35L5.41 20z\"/>\n",
              "  </svg>\n",
              "      </button>\n",
              "      \n",
              "  <style>\n",
              "    .colab-df-container {\n",
              "      display:flex;\n",
              "      flex-wrap:wrap;\n",
              "      gap: 12px;\n",
              "    }\n",
              "\n",
              "    .colab-df-convert {\n",
              "      background-color: #E8F0FE;\n",
              "      border: none;\n",
              "      border-radius: 50%;\n",
              "      cursor: pointer;\n",
              "      display: none;\n",
              "      fill: #1967D2;\n",
              "      height: 32px;\n",
              "      padding: 0 0 0 0;\n",
              "      width: 32px;\n",
              "    }\n",
              "\n",
              "    .colab-df-convert:hover {\n",
              "      background-color: #E2EBFA;\n",
              "      box-shadow: 0px 1px 2px rgba(60, 64, 67, 0.3), 0px 1px 3px 1px rgba(60, 64, 67, 0.15);\n",
              "      fill: #174EA6;\n",
              "    }\n",
              "\n",
              "    [theme=dark] .colab-df-convert {\n",
              "      background-color: #3B4455;\n",
              "      fill: #D2E3FC;\n",
              "    }\n",
              "\n",
              "    [theme=dark] .colab-df-convert:hover {\n",
              "      background-color: #434B5C;\n",
              "      box-shadow: 0px 1px 3px 1px rgba(0, 0, 0, 0.15);\n",
              "      filter: drop-shadow(0px 1px 2px rgba(0, 0, 0, 0.3));\n",
              "      fill: #FFFFFF;\n",
              "    }\n",
              "  </style>\n",
              "\n",
              "      <script>\n",
              "        const buttonEl =\n",
              "          document.querySelector('#df-4bc9293e-d568-491a-b5ef-d185e7846eda button.colab-df-convert');\n",
              "        buttonEl.style.display =\n",
              "          google.colab.kernel.accessAllowed ? 'block' : 'none';\n",
              "\n",
              "        async function convertToInteractive(key) {\n",
              "          const element = document.querySelector('#df-4bc9293e-d568-491a-b5ef-d185e7846eda');\n",
              "          const dataTable =\n",
              "            await google.colab.kernel.invokeFunction('convertToInteractive',\n",
              "                                                     [key], {});\n",
              "          if (!dataTable) return;\n",
              "\n",
              "          const docLinkHtml = 'Like what you see? Visit the ' +\n",
              "            '<a target=\"_blank\" href=https://colab.research.google.com/notebooks/data_table.ipynb>data table notebook</a>'\n",
              "            + ' to learn more about interactive tables.';\n",
              "          element.innerHTML = '';\n",
              "          dataTable['output_type'] = 'display_data';\n",
              "          await google.colab.output.renderOutput(dataTable, element);\n",
              "          const docLink = document.createElement('div');\n",
              "          docLink.innerHTML = docLinkHtml;\n",
              "          element.appendChild(docLink);\n",
              "        }\n",
              "      </script>\n",
              "    </div>\n",
              "  </div>\n",
              "  "
            ]
          },
          "metadata": {},
          "execution_count": 49
        }
      ],
      "source": [
        "df.head()"
      ]
    },
    {
      "cell_type": "code",
      "execution_count": null,
      "metadata": {
        "colab": {
          "base_uri": "https://localhost:8080/",
          "height": 206
        },
        "id": "rKU9uj5vb19Q",
        "outputId": "12518e3c-1c1e-4be0-c3bf-4d130262e022"
      },
      "outputs": [
        {
          "output_type": "execute_result",
          "data": {
            "text/plain": [
              "            DATE    OPEN   HIGH     LOW   CLOSE  NO. OF SHARES  NO. OF TRADES  \\\n",
              "3980  08-01-2007  109.50  113.8  109.06  110.04           1394             60   \n",
              "3981  05-01-2007  110.68  112.0  110.00  110.10           1013             72   \n",
              "3982  04-01-2007  110.00  111.8  109.00  110.13           2999             99   \n",
              "3983  03-01-2007  110.20  111.4  109.20  109.51           1139             70   \n",
              "3984  02-01-2007  112.00  112.0  109.50  109.72           1010             59   \n",
              "\n",
              "      Market Capitalization  \n",
              "3980              155333.42  \n",
              "3981              112443.00  \n",
              "3982              331089.60  \n",
              "3983              125631.70  \n",
              "3984              111857.50  "
            ],
            "text/html": [
              "\n",
              "  <div id=\"df-10bc831e-1442-41b1-ab30-77f4c470f4f9\">\n",
              "    <div class=\"colab-df-container\">\n",
              "      <div>\n",
              "<style scoped>\n",
              "    .dataframe tbody tr th:only-of-type {\n",
              "        vertical-align: middle;\n",
              "    }\n",
              "\n",
              "    .dataframe tbody tr th {\n",
              "        vertical-align: top;\n",
              "    }\n",
              "\n",
              "    .dataframe thead th {\n",
              "        text-align: right;\n",
              "    }\n",
              "</style>\n",
              "<table border=\"1\" class=\"dataframe\">\n",
              "  <thead>\n",
              "    <tr style=\"text-align: right;\">\n",
              "      <th></th>\n",
              "      <th>DATE</th>\n",
              "      <th>OPEN</th>\n",
              "      <th>HIGH</th>\n",
              "      <th>LOW</th>\n",
              "      <th>CLOSE</th>\n",
              "      <th>NO. OF SHARES</th>\n",
              "      <th>NO. OF TRADES</th>\n",
              "      <th>Market Capitalization</th>\n",
              "    </tr>\n",
              "  </thead>\n",
              "  <tbody>\n",
              "    <tr>\n",
              "      <th>3980</th>\n",
              "      <td>08-01-2007</td>\n",
              "      <td>109.50</td>\n",
              "      <td>113.8</td>\n",
              "      <td>109.06</td>\n",
              "      <td>110.04</td>\n",
              "      <td>1394</td>\n",
              "      <td>60</td>\n",
              "      <td>155333.42</td>\n",
              "    </tr>\n",
              "    <tr>\n",
              "      <th>3981</th>\n",
              "      <td>05-01-2007</td>\n",
              "      <td>110.68</td>\n",
              "      <td>112.0</td>\n",
              "      <td>110.00</td>\n",
              "      <td>110.10</td>\n",
              "      <td>1013</td>\n",
              "      <td>72</td>\n",
              "      <td>112443.00</td>\n",
              "    </tr>\n",
              "    <tr>\n",
              "      <th>3982</th>\n",
              "      <td>04-01-2007</td>\n",
              "      <td>110.00</td>\n",
              "      <td>111.8</td>\n",
              "      <td>109.00</td>\n",
              "      <td>110.13</td>\n",
              "      <td>2999</td>\n",
              "      <td>99</td>\n",
              "      <td>331089.60</td>\n",
              "    </tr>\n",
              "    <tr>\n",
              "      <th>3983</th>\n",
              "      <td>03-01-2007</td>\n",
              "      <td>110.20</td>\n",
              "      <td>111.4</td>\n",
              "      <td>109.20</td>\n",
              "      <td>109.51</td>\n",
              "      <td>1139</td>\n",
              "      <td>70</td>\n",
              "      <td>125631.70</td>\n",
              "    </tr>\n",
              "    <tr>\n",
              "      <th>3984</th>\n",
              "      <td>02-01-2007</td>\n",
              "      <td>112.00</td>\n",
              "      <td>112.0</td>\n",
              "      <td>109.50</td>\n",
              "      <td>109.72</td>\n",
              "      <td>1010</td>\n",
              "      <td>59</td>\n",
              "      <td>111857.50</td>\n",
              "    </tr>\n",
              "  </tbody>\n",
              "</table>\n",
              "</div>\n",
              "      <button class=\"colab-df-convert\" onclick=\"convertToInteractive('df-10bc831e-1442-41b1-ab30-77f4c470f4f9')\"\n",
              "              title=\"Convert this dataframe to an interactive table.\"\n",
              "              style=\"display:none;\">\n",
              "        \n",
              "  <svg xmlns=\"http://www.w3.org/2000/svg\" height=\"24px\"viewBox=\"0 0 24 24\"\n",
              "       width=\"24px\">\n",
              "    <path d=\"M0 0h24v24H0V0z\" fill=\"none\"/>\n",
              "    <path d=\"M18.56 5.44l.94 2.06.94-2.06 2.06-.94-2.06-.94-.94-2.06-.94 2.06-2.06.94zm-11 1L8.5 8.5l.94-2.06 2.06-.94-2.06-.94L8.5 2.5l-.94 2.06-2.06.94zm10 10l.94 2.06.94-2.06 2.06-.94-2.06-.94-.94-2.06-.94 2.06-2.06.94z\"/><path d=\"M17.41 7.96l-1.37-1.37c-.4-.4-.92-.59-1.43-.59-.52 0-1.04.2-1.43.59L10.3 9.45l-7.72 7.72c-.78.78-.78 2.05 0 2.83L4 21.41c.39.39.9.59 1.41.59.51 0 1.02-.2 1.41-.59l7.78-7.78 2.81-2.81c.8-.78.8-2.07 0-2.86zM5.41 20L4 18.59l7.72-7.72 1.47 1.35L5.41 20z\"/>\n",
              "  </svg>\n",
              "      </button>\n",
              "      \n",
              "  <style>\n",
              "    .colab-df-container {\n",
              "      display:flex;\n",
              "      flex-wrap:wrap;\n",
              "      gap: 12px;\n",
              "    }\n",
              "\n",
              "    .colab-df-convert {\n",
              "      background-color: #E8F0FE;\n",
              "      border: none;\n",
              "      border-radius: 50%;\n",
              "      cursor: pointer;\n",
              "      display: none;\n",
              "      fill: #1967D2;\n",
              "      height: 32px;\n",
              "      padding: 0 0 0 0;\n",
              "      width: 32px;\n",
              "    }\n",
              "\n",
              "    .colab-df-convert:hover {\n",
              "      background-color: #E2EBFA;\n",
              "      box-shadow: 0px 1px 2px rgba(60, 64, 67, 0.3), 0px 1px 3px 1px rgba(60, 64, 67, 0.15);\n",
              "      fill: #174EA6;\n",
              "    }\n",
              "\n",
              "    [theme=dark] .colab-df-convert {\n",
              "      background-color: #3B4455;\n",
              "      fill: #D2E3FC;\n",
              "    }\n",
              "\n",
              "    [theme=dark] .colab-df-convert:hover {\n",
              "      background-color: #434B5C;\n",
              "      box-shadow: 0px 1px 3px 1px rgba(0, 0, 0, 0.15);\n",
              "      filter: drop-shadow(0px 1px 2px rgba(0, 0, 0, 0.3));\n",
              "      fill: #FFFFFF;\n",
              "    }\n",
              "  </style>\n",
              "\n",
              "      <script>\n",
              "        const buttonEl =\n",
              "          document.querySelector('#df-10bc831e-1442-41b1-ab30-77f4c470f4f9 button.colab-df-convert');\n",
              "        buttonEl.style.display =\n",
              "          google.colab.kernel.accessAllowed ? 'block' : 'none';\n",
              "\n",
              "        async function convertToInteractive(key) {\n",
              "          const element = document.querySelector('#df-10bc831e-1442-41b1-ab30-77f4c470f4f9');\n",
              "          const dataTable =\n",
              "            await google.colab.kernel.invokeFunction('convertToInteractive',\n",
              "                                                     [key], {});\n",
              "          if (!dataTable) return;\n",
              "\n",
              "          const docLinkHtml = 'Like what you see? Visit the ' +\n",
              "            '<a target=\"_blank\" href=https://colab.research.google.com/notebooks/data_table.ipynb>data table notebook</a>'\n",
              "            + ' to learn more about interactive tables.';\n",
              "          element.innerHTML = '';\n",
              "          dataTable['output_type'] = 'display_data';\n",
              "          await google.colab.output.renderOutput(dataTable, element);\n",
              "          const docLink = document.createElement('div');\n",
              "          docLink.innerHTML = docLinkHtml;\n",
              "          element.appendChild(docLink);\n",
              "        }\n",
              "      </script>\n",
              "    </div>\n",
              "  </div>\n",
              "  "
            ]
          },
          "metadata": {},
          "execution_count": 5
        }
      ],
      "source": [
        "df.tail()"
      ]
    },
    {
      "cell_type": "code",
      "execution_count": null,
      "metadata": {
        "id": "-f6x8BMab19R"
      },
      "outputs": [],
      "source": [
        "df1=df.reset_index()['CLOSE']"
      ]
    },
    {
      "cell_type": "code",
      "execution_count": null,
      "metadata": {
        "colab": {
          "base_uri": "https://localhost:8080/"
        },
        "id": "4xQa36Kab19R",
        "outputId": "aa5630c7-361e-4577-b5df-67f97dec5d83"
      },
      "outputs": [
        {
          "output_type": "execute_result",
          "data": {
            "text/plain": [
              "0       4637.60\n",
              "1       4590.95\n",
              "2       4605.35\n",
              "3       4626.60\n",
              "4       4624.80\n",
              "         ...   \n",
              "3980     110.04\n",
              "3981     110.10\n",
              "3982     110.13\n",
              "3983     109.51\n",
              "3984     109.72\n",
              "Name: CLOSE, Length: 3985, dtype: float64"
            ]
          },
          "metadata": {},
          "execution_count": 7
        }
      ],
      "source": [
        "df1"
      ]
    },
    {
      "cell_type": "code",
      "execution_count": null,
      "metadata": {
        "colab": {
          "base_uri": "https://localhost:8080/",
          "height": 447
        },
        "id": "570PAAZcb19R",
        "outputId": "60dac9b3-ec4c-4a0b-d52f-3a12b4099862"
      },
      "outputs": [
        {
          "output_type": "execute_result",
          "data": {
            "text/plain": [
              "[<matplotlib.lines.Line2D at 0x7fcd0780f610>]"
            ]
          },
          "metadata": {},
          "execution_count": 8
        },
        {
          "output_type": "display_data",
          "data": {
            "text/plain": [
              "<Figure size 640x480 with 1 Axes>"
            ],
            "image/png": "[encoded data removed]"
          },
          "metadata": {}
        }
      ],
      "source": [
        "import matplotlib.pyplot as plt\n",
        "plt.plot(df1)"
      ]
    },
    {
      "cell_type": "code",
      "execution_count": null,
      "metadata": {
        "id": "SIOr7ydSb19S"
      },
      "outputs": [],
      "source": [
        "### LSTM are sensitive to the scale of the data. so we apply MinMax scaler"
      ]
    },
    {
      "cell_type": "code",
      "execution_count": null,
      "metadata": {
        "id": "PBdGBzXGb19S"
      },
      "outputs": [],
      "source": [
        "import numpy as np"
      ]
    },
    {
      "cell_type": "code",
      "execution_count": null,
      "metadata": {
        "colab": {
          "base_uri": "https://localhost:8080/"
        },
        "id": "dqAgRSakb19S",
        "outputId": "d96b9b7a-eb49-465f-a543-e294ebdb531a"
      },
      "outputs": [
        {
          "output_type": "execute_result",
          "data": {
            "text/plain": [
              "0       4637.60\n",
              "1       4590.95\n",
              "2       4605.35\n",
              "3       4626.60\n",
              "4       4624.80\n",
              "         ...   \n",
              "3980     110.04\n",
              "3981     110.10\n",
              "3982     110.13\n",
              "3983     109.51\n",
              "3984     109.72\n",
              "Name: CLOSE, Length: 3985, dtype: float64"
            ]
          },
          "metadata": {},
          "execution_count": 11
        }
      ],
      "source": [
        "df1"
      ]
    },
    {
      "cell_type": "code",
      "execution_count": null,
      "metadata": {
        "id": "Lb4RnCmXb19T"
      },
      "outputs": [],
      "source": [
        "from sklearn.preprocessing import MinMaxScaler\n",
        "scaler=MinMaxScaler(feature_range=(0,1))\n",
        "df1=scaler.fit_transform(np.array(df1).reshape(-1,1))"
      ]
    },
    {
      "cell_type": "code",
      "execution_count": null,
      "metadata": {
        "colab": {
          "base_uri": "https://localhost:8080/"
        },
        "id": "YYXO78JIb19T",
        "outputId": "46e0d1ff-3233-4d31-84bc-fc8dd2d89ed7"
      },
      "outputs": [
        {
          "output_type": "stream",
          "name": "stdout",
          "text": [
            "[[1.00000000e+00]\n",
            " [9.89700304e-01]\n",
            " [9.92879632e-01]\n",
            " ...\n",
            " [3.95208047e-04]\n",
            " [2.58320344e-04]\n",
            " [3.04685534e-04]]\n"
          ]
        }
      ],
      "source": [
        "print(df1)"
      ]
    },
    {
      "cell_type": "code",
      "execution_count": null,
      "metadata": {
        "id": "4-mNxlI4b19T"
      },
      "outputs": [],
      "source": [
        "##splitting dataset into train and test split\n",
        "training_size=int(len(df1)*0.65)\n",
        "test_size=len(df1)-training_size\n",
        "train_data,test_data=df1[0:training_size,:],df1[training_size:len(df1),:1]"
      ]
    },
    {
      "cell_type": "code",
      "execution_count": null,
      "metadata": {
        "colab": {
          "base_uri": "https://localhost:8080/"
        },
        "id": "bEtXkwsOb19U",
        "outputId": "43274b51-c17c-4556-e3cb-710f165b1b6c"
      },
      "outputs": [
        {
          "output_type": "execute_result",
          "data": {
            "text/plain": [
              "(2590, 1395)"
            ]
          },
          "metadata": {},
          "execution_count": 15
        }
      ],
      "source": [
        "training_size,test_size"
      ]
    },
    {
      "cell_type": "code",
      "execution_count": null,
      "metadata": {
        "colab": {
          "base_uri": "https://localhost:8080/"
        },
        "id": "DrqOE5Rpb19U",
        "outputId": "6d817a9b-cc34-4a29-d2f6-7aabf9076032"
      },
      "outputs": [
        {
          "output_type": "execute_result",
          "data": {
            "text/plain": [
              "array([[1.        ],\n",
              "       [0.9897003 ],\n",
              "       [0.99287963],\n",
              "       ...,\n",
              "       [0.02842407],\n",
              "       [0.02807523],\n",
              "       [0.02778379]])"
            ]
          },
          "metadata": {},
          "execution_count": 16
        }
      ],
      "source": [
        "train_data"
      ]
    },
    {
      "cell_type": "code",
      "execution_count": null,
      "metadata": {
        "id": "oY48e-Rdb19V"
      },
      "outputs": [],
      "source": [
        "import numpy\n",
        "# convert an array of values into a dataset matrix\n",
        "def create_dataset(dataset, time_step=1):\n",
        "\tdataX, dataY = [], []\n",
        "\tfor i in range(len(dataset)-time_step-1):\n",
        "\t\ta = dataset[i:(i+time_step), 0]   ###i=0, 0,1,2,3-----99   100\n",
        "\t\tdataX.append(a)\n",
        "\t\tdataY.append(dataset[i + time_step, 0])\n",
        "\treturn numpy.array(dataX), numpy.array(dataY)"
      ]
    },
    {
      "cell_type": "code",
      "execution_count": null,
      "metadata": {
        "id": "reSRwHzqb19W"
      },
      "outputs": [],
      "source": [
        "# reshape into X=t,t+1,t+2,t+3 and Y=t+4\n",
        "time_step = 100\n",
        "X_train, y_train = create_dataset(train_data, time_step)\n",
        "X_test, ytest = create_dataset(test_data, time_step)"
      ]
    },
    {
      "cell_type": "code",
      "execution_count": null,
      "metadata": {
        "colab": {
          "base_uri": "https://localhost:8080/"
        },
        "id": "LfdU7Gh2b19X",
        "outputId": "dc186458-14c7-495e-f5ac-47850341731b"
      },
      "outputs": [
        {
          "output_type": "stream",
          "name": "stdout",
          "text": [
            "(2489, 100)\n",
            "(2489,)\n"
          ]
        },
        {
          "output_type": "execute_result",
          "data": {
            "text/plain": [
              "(None, None)"
            ]
          },
          "metadata": {},
          "execution_count": 19
        }
      ],
      "source": [
        "print(X_train.shape), print(y_train.shape)"
      ]
    },
    {
      "cell_type": "code",
      "execution_count": null,
      "metadata": {
        "colab": {
          "base_uri": "https://localhost:8080/"
        },
        "id": "juW4OqFHb19Y",
        "outputId": "96594f28-3c7b-4fe2-8817-a0ccb3e0c20a"
      },
      "outputs": [
        {
          "output_type": "stream",
          "name": "stdout",
          "text": [
            "(1294, 100)\n",
            "(1294,)\n"
          ]
        },
        {
          "output_type": "execute_result",
          "data": {
            "text/plain": [
              "(None, None)"
            ]
          },
          "metadata": {},
          "execution_count": 20
        }
      ],
      "source": [
        "print(X_test.shape), print(ytest.shape)"
      ]
    },
    {
      "cell_type": "code",
      "execution_count": null,
      "metadata": {
        "id": "EkY3akz3b19Z"
      },
      "outputs": [],
      "source": [
        "# reshape input to be [samples, time steps, features] which is required for LSTM\n",
        "X_train =X_train.reshape(X_train.shape[0],X_train.shape[1] , 1)\n",
        "X_test = X_test.reshape(X_test.shape[0],X_test.shape[1] , 1)"
      ]
    },
    {
      "cell_type": "code",
      "execution_count": null,
      "metadata": {
        "id": "P4VTkJCBb19Z"
      },
      "outputs": [],
      "source": [
        "### Create the Stacked LSTM model\n",
        "from tensorflow.keras.models import Sequential\n",
        "from tensorflow.keras.layers import Dense\n",
        "from tensorflow.keras.layers import LSTM"
      ]
    },
    {
      "cell_type": "code",
      "execution_count": null,
      "metadata": {
        "id": "21Sh-UcCb19a"
      },
      "outputs": [],
      "source": [
        "model=Sequential()\n",
        "model.add(LSTM(50,return_sequences=True,input_shape=(100,1)))\n",
        "model.add(LSTM(50,return_sequences=True))\n",
        "model.add(LSTM(50))\n",
        "model.add(Dense(1))\n",
        "model.compile(loss='mean_squared_error',optimizer='adam')\n"
      ]
    },
    {
      "cell_type": "code",
      "execution_count": null,
      "metadata": {
        "colab": {
          "base_uri": "https://localhost:8080/"
        },
        "id": "9DNq2Sy-b19b",
        "outputId": "0118cc81-8983-4eb9-a539-cef26047cb10"
      },
      "outputs": [
        {
          "output_type": "stream",
          "name": "stdout",
          "text": [
            "Model: \"sequential\"\n",
            "_________________________________________________________________\n",
            " Layer (type)                Output Shape              Param #   \n",
            "=================================================================\n",
            " lstm (LSTM)                 (None, 100, 50)           10400     \n",
            "                                                                 \n",
            " lstm_1 (LSTM)               (None, 100, 50)           20200     \n",
            "                                                                 \n",
            " lstm_2 (LSTM)               (None, 50)                20200     \n",
            "                                                                 \n",
            " dense (Dense)               (None, 1)                 51        \n",
            "                                                                 \n",
            "=================================================================\n",
            "Total params: 50,851\n",
            "Trainable params: 50,851\n",
            "Non-trainable params: 0\n",
            "_________________________________________________________________\n"
          ]
        }
      ],
      "source": [
        "model.summary()"
      ]
    },
    {
      "cell_type": "code",
      "execution_count": null,
      "metadata": {
        "colab": {
          "base_uri": "https://localhost:8080/"
        },
        "id": "4tFHX3UXb19b",
        "outputId": "70a28842-a18b-42c0-dbd9-6a65674797a0"
      },
      "outputs": [
        {
          "output_type": "stream",
          "name": "stdout",
          "text": [
            "Model: \"sequential\"\n",
            "_________________________________________________________________\n",
            " Layer (type)                Output Shape              Param #   \n",
            "=================================================================\n",
            " lstm (LSTM)                 (None, 100, 50)           10400     \n",
            "                                                                 \n",
            " lstm_1 (LSTM)               (None, 100, 50)           20200     \n",
            "                                                                 \n",
            " lstm_2 (LSTM)               (None, 50)                20200     \n",
            "                                                                 \n",
            " dense (Dense)               (None, 1)                 51        \n",
            "                                                                 \n",
            "=================================================================\n",
            "Total params: 50,851\n",
            "Trainable params: 50,851\n",
            "Non-trainable params: 0\n",
            "_________________________________________________________________\n"
          ]
        }
      ],
      "source": [
        "model.summary()"
      ]
    },
    {
      "cell_type": "code",
      "execution_count": null,
      "metadata": {
        "id": "v-ceK36_b19c"
      },
      "outputs": [],
      "source": []
    },
    {
      "cell_type": "code",
      "execution_count": null,
      "metadata": {
        "colab": {
          "base_uri": "https://localhost:8080/"
        },
        "id": "kILKaG0ab19d",
        "outputId": "18f56903-3d12-4d7b-e752-df230f28b0f1"
      },
      "outputs": [
        {
          "output_type": "stream",
          "name": "stdout",
          "text": [
            "Epoch 1/100\n",
            "39/39 [==============================] - 10s 160ms/step - loss: 0.0320 - val_loss: 0.0015\n",
            "Epoch 2/100\n",
            "39/39 [==============================] - 5s 128ms/step - loss: 8.7566e-04 - val_loss: 2.3896e-05\n",
            "Epoch 3/100\n",
            "39/39 [==============================] - 5s 140ms/step - loss: 6.2392e-04 - val_loss: 2.4425e-05\n",
            "Epoch 4/100\n",
            "39/39 [==============================] - 5s 121ms/step - loss: 5.8796e-04 - val_loss: 2.7379e-05\n",
            "Epoch 5/100\n",
            "39/39 [==============================] - 6s 147ms/step - loss: 5.8789e-04 - val_loss: 8.5890e-06\n",
            "Epoch 6/100\n",
            "39/39 [==============================] - 5s 126ms/step - loss: 5.7609e-04 - val_loss: 4.1539e-06\n",
            "Epoch 7/100\n",
            "39/39 [==============================] - 5s 120ms/step - loss: 5.9138e-04 - val_loss: 1.0235e-05\n",
            "Epoch 8/100\n",
            "39/39 [==============================] - 5s 138ms/step - loss: 5.7334e-04 - val_loss: 8.4463e-06\n",
            "Epoch 9/100\n",
            "39/39 [==============================] - 5s 119ms/step - loss: 5.5367e-04 - val_loss: 2.0069e-05\n",
            "Epoch 10/100\n",
            "39/39 [==============================] - 5s 136ms/step - loss: 5.6494e-04 - val_loss: 6.8722e-06\n",
            "Epoch 11/100\n",
            "39/39 [==============================] - 5s 120ms/step - loss: 5.4033e-04 - val_loss: 8.6360e-06\n",
            "Epoch 12/100\n",
            "39/39 [==============================] - 5s 118ms/step - loss: 5.4628e-04 - val_loss: 4.2927e-06\n",
            "Epoch 13/100\n",
            "39/39 [==============================] - 5s 138ms/step - loss: 4.9709e-04 - val_loss: 7.9396e-06\n",
            "Epoch 14/100\n",
            "39/39 [==============================] - 5s 120ms/step - loss: 4.8492e-04 - val_loss: 2.9442e-06\n",
            "Epoch 15/100\n",
            "39/39 [==============================] - 5s 138ms/step - loss: 4.7486e-04 - val_loss: 8.1338e-06\n",
            "Epoch 16/100\n",
            "39/39 [==============================] - 5s 120ms/step - loss: 4.5743e-04 - val_loss: 2.8696e-06\n",
            "Epoch 17/100\n",
            "39/39 [==============================] - 5s 129ms/step - loss: 4.3029e-04 - val_loss: 4.3089e-06\n",
            "Epoch 18/100\n",
            "39/39 [==============================] - 5s 127ms/step - loss: 4.0573e-04 - val_loss: 3.2794e-06\n",
            "Epoch 19/100\n",
            "39/39 [==============================] - 5s 120ms/step - loss: 3.9757e-04 - val_loss: 6.2435e-06\n",
            "Epoch 20/100\n",
            "39/39 [==============================] - 5s 137ms/step - loss: 3.9522e-04 - val_loss: 6.4573e-06\n",
            "Epoch 21/100\n",
            "39/39 [==============================] - 5s 120ms/step - loss: 4.1196e-04 - val_loss: 2.5888e-06\n",
            "Epoch 22/100\n",
            "39/39 [==============================] - 5s 137ms/step - loss: 3.7450e-04 - val_loss: 2.6832e-06\n",
            "Epoch 23/100\n",
            "39/39 [==============================] - 5s 120ms/step - loss: 3.3971e-04 - val_loss: 2.9570e-06\n",
            "Epoch 24/100\n",
            "39/39 [==============================] - 5s 121ms/step - loss: 3.9212e-04 - val_loss: 2.9432e-06\n",
            "Epoch 25/100\n",
            "39/39 [==============================] - 5s 137ms/step - loss: 3.5124e-04 - val_loss: 2.6272e-06\n",
            "Epoch 26/100\n",
            "39/39 [==============================] - 5s 120ms/step - loss: 3.2456e-04 - val_loss: 3.6119e-06\n",
            "Epoch 27/100\n",
            "39/39 [==============================] - 5s 138ms/step - loss: 3.0507e-04 - val_loss: 4.3288e-06\n",
            "Epoch 28/100\n",
            "39/39 [==============================] - 5s 118ms/step - loss: 2.9626e-04 - val_loss: 3.2801e-05\n",
            "Epoch 29/100\n",
            "39/39 [==============================] - 5s 128ms/step - loss: 2.9690e-04 - val_loss: 5.0915e-06\n",
            "Epoch 30/100\n",
            "39/39 [==============================] - 5s 124ms/step - loss: 3.3049e-04 - val_loss: 2.4163e-06\n",
            "Epoch 31/100\n",
            "39/39 [==============================] - 5s 121ms/step - loss: 2.8574e-04 - val_loss: 1.3268e-05\n",
            "Epoch 32/100\n",
            "39/39 [==============================] - 5s 139ms/step - loss: 3.0928e-04 - val_loss: 6.1428e-06\n",
            "Epoch 33/100\n",
            "39/39 [==============================] - 5s 120ms/step - loss: 3.3655e-04 - val_loss: 4.7707e-06\n",
            "Epoch 34/100\n",
            "39/39 [==============================] - 5s 140ms/step - loss: 2.9786e-04 - val_loss: 1.1070e-05\n",
            "Epoch 35/100\n",
            "39/39 [==============================] - 5s 122ms/step - loss: 2.8468e-04 - val_loss: 2.6116e-06\n",
            "Epoch 36/100\n",
            "39/39 [==============================] - 5s 122ms/step - loss: 2.5004e-04 - val_loss: 8.9552e-06\n",
            "Epoch 37/100\n",
            "39/39 [==============================] - 5s 135ms/step - loss: 2.4724e-04 - val_loss: 2.4883e-06\n",
            "Epoch 38/100\n",
            "39/39 [==============================] - 5s 121ms/step - loss: 3.2341e-04 - val_loss: 6.4774e-06\n",
            "Epoch 39/100\n",
            "39/39 [==============================] - 5s 138ms/step - loss: 2.8313e-04 - val_loss: 2.2617e-06\n",
            "Epoch 40/100\n",
            "39/39 [==============================] - 5s 119ms/step - loss: 2.3770e-04 - val_loss: 4.3476e-06\n",
            "Epoch 41/100\n",
            "39/39 [==============================] - 5s 131ms/step - loss: 2.6870e-04 - val_loss: 5.8105e-06\n",
            "Epoch 42/100\n",
            "39/39 [==============================] - 5s 120ms/step - loss: 2.3886e-04 - val_loss: 2.7855e-06\n",
            "Epoch 43/100\n",
            "39/39 [==============================] - 5s 118ms/step - loss: 2.2631e-04 - val_loss: 1.0054e-05\n",
            "Epoch 44/100\n",
            "39/39 [==============================] - 5s 137ms/step - loss: 2.6951e-04 - val_loss: 1.7161e-05\n",
            "Epoch 45/100\n",
            "39/39 [==============================] - 5s 118ms/step - loss: 2.5820e-04 - val_loss: 7.6933e-06\n",
            "Epoch 46/100\n",
            "39/39 [==============================] - 5s 136ms/step - loss: 2.2843e-04 - val_loss: 4.1822e-06\n",
            "Epoch 47/100\n",
            "39/39 [==============================] - 5s 120ms/step - loss: 2.1080e-04 - val_loss: 3.3948e-06\n",
            "Epoch 48/100\n",
            "39/39 [==============================] - 5s 120ms/step - loss: 2.8369e-04 - val_loss: 4.3093e-06\n",
            "Epoch 49/100\n",
            "39/39 [==============================] - 5s 134ms/step - loss: 2.4873e-04 - val_loss: 1.4990e-05\n",
            "Epoch 50/100\n",
            "39/39 [==============================] - 5s 119ms/step - loss: 2.0466e-04 - val_loss: 2.2783e-06\n",
            "Epoch 51/100\n",
            "39/39 [==============================] - 5s 138ms/step - loss: 2.2635e-04 - val_loss: 3.5829e-06\n",
            "Epoch 52/100\n",
            "39/39 [==============================] - 5s 120ms/step - loss: 2.3491e-04 - val_loss: 5.1425e-06\n",
            "Epoch 53/100\n",
            "39/39 [==============================] - 5s 130ms/step - loss: 2.0229e-04 - val_loss: 1.0288e-05\n",
            "Epoch 54/100\n",
            "39/39 [==============================] - 5s 123ms/step - loss: 1.9320e-04 - val_loss: 6.1251e-06\n",
            "Epoch 55/100\n",
            "39/39 [==============================] - 5s 120ms/step - loss: 2.4241e-04 - val_loss: 5.7476e-06\n",
            "Epoch 56/100\n",
            "39/39 [==============================] - 5s 129ms/step - loss: 1.9203e-04 - val_loss: 5.7338e-06\n",
            "Epoch 57/100\n",
            "39/39 [==============================] - 5s 121ms/step - loss: 1.8294e-04 - val_loss: 2.3707e-06\n",
            "Epoch 58/100\n",
            "39/39 [==============================] - 5s 132ms/step - loss: 1.8393e-04 - val_loss: 6.3617e-06\n",
            "Epoch 59/100\n",
            "39/39 [==============================] - 5s 117ms/step - loss: 1.7149e-04 - val_loss: 3.1713e-06\n",
            "Epoch 60/100\n",
            "39/39 [==============================] - 5s 124ms/step - loss: 1.8049e-04 - val_loss: 3.0859e-06\n",
            "Epoch 61/100\n",
            "39/39 [==============================] - 5s 121ms/step - loss: 1.9450e-04 - val_loss: 7.4609e-06\n",
            "Epoch 62/100\n",
            "39/39 [==============================] - 5s 119ms/step - loss: 1.9148e-04 - val_loss: 2.1656e-05\n",
            "Epoch 63/100\n",
            "39/39 [==============================] - 5s 132ms/step - loss: 2.0387e-04 - val_loss: 2.6495e-06\n",
            "Epoch 64/100\n",
            "39/39 [==============================] - 5s 119ms/step - loss: 1.7854e-04 - val_loss: 2.2171e-06\n",
            "Epoch 65/100\n",
            "39/39 [==============================] - 5s 133ms/step - loss: 1.5717e-04 - val_loss: 2.0006e-06\n",
            "Epoch 66/100\n",
            "39/39 [==============================] - 5s 122ms/step - loss: 1.7540e-04 - val_loss: 2.2690e-06\n",
            "Epoch 67/100\n",
            "39/39 [==============================] - 5s 131ms/step - loss: 1.8469e-04 - val_loss: 3.3286e-06\n",
            "Epoch 68/100\n",
            "39/39 [==============================] - 5s 121ms/step - loss: 1.7498e-04 - val_loss: 1.8623e-06\n",
            "Epoch 69/100\n",
            "39/39 [==============================] - 5s 120ms/step - loss: 1.6647e-04 - val_loss: 1.9762e-06\n",
            "Epoch 70/100\n",
            "39/39 [==============================] - 5s 133ms/step - loss: 1.6146e-04 - val_loss: 1.9234e-06\n",
            "Epoch 71/100\n",
            "39/39 [==============================] - 6s 163ms/step - loss: 1.4806e-04 - val_loss: 8.0932e-06\n",
            "Epoch 72/100\n",
            "39/39 [==============================] - 5s 135ms/step - loss: 1.5746e-04 - val_loss: 2.4221e-06\n",
            "Epoch 73/100\n",
            "39/39 [==============================] - 5s 124ms/step - loss: 1.5547e-04 - val_loss: 5.5406e-06\n",
            "Epoch 74/100\n",
            "39/39 [==============================] - 5s 134ms/step - loss: 1.7016e-04 - val_loss: 9.7094e-06\n",
            "Epoch 75/100\n",
            "39/39 [==============================] - 5s 124ms/step - loss: 1.5484e-04 - val_loss: 2.4487e-06\n",
            "Epoch 76/100\n",
            "39/39 [==============================] - 5s 134ms/step - loss: 1.4751e-04 - val_loss: 2.0215e-06\n",
            "Epoch 77/100\n",
            "39/39 [==============================] - 5s 123ms/step - loss: 1.4918e-04 - val_loss: 2.7622e-06\n",
            "Epoch 78/100\n",
            "39/39 [==============================] - 5s 132ms/step - loss: 1.6198e-04 - val_loss: 1.9238e-06\n",
            "Epoch 79/100\n",
            "39/39 [==============================] - 5s 123ms/step - loss: 1.6677e-04 - val_loss: 2.2465e-06\n",
            "Epoch 80/100\n",
            "39/39 [==============================] - 5s 123ms/step - loss: 1.7227e-04 - val_loss: 1.4629e-05\n",
            "Epoch 81/100\n",
            "39/39 [==============================] - 5s 135ms/step - loss: 1.3466e-04 - val_loss: 2.0993e-06\n",
            "Epoch 82/100\n",
            "39/39 [==============================] - 5s 122ms/step - loss: 1.5096e-04 - val_loss: 3.0528e-06\n",
            "Epoch 83/100\n",
            "39/39 [==============================] - 5s 135ms/step - loss: 1.4480e-04 - val_loss: 5.5757e-06\n",
            "Epoch 84/100\n",
            "39/39 [==============================] - 5s 124ms/step - loss: 1.2861e-04 - val_loss: 1.0662e-05\n",
            "Epoch 85/100\n",
            "39/39 [==============================] - 5s 134ms/step - loss: 1.4137e-04 - val_loss: 1.7270e-05\n",
            "Epoch 86/100\n",
            "39/39 [==============================] - 5s 122ms/step - loss: 1.4739e-04 - val_loss: 4.6849e-06\n",
            "Epoch 87/100\n",
            "39/39 [==============================] - 5s 129ms/step - loss: 1.4158e-04 - val_loss: 3.7757e-06\n",
            "Epoch 88/100\n",
            "39/39 [==============================] - 5s 124ms/step - loss: 1.4639e-04 - val_loss: 3.3312e-06\n",
            "Epoch 89/100\n",
            "39/39 [==============================] - 5s 122ms/step - loss: 1.2808e-04 - val_loss: 1.1247e-05\n",
            "Epoch 90/100\n",
            "39/39 [==============================] - 5s 134ms/step - loss: 1.3009e-04 - val_loss: 2.0623e-06\n",
            "Epoch 91/100\n",
            "39/39 [==============================] - 5s 123ms/step - loss: 1.2607e-04 - val_loss: 2.8535e-06\n",
            "Epoch 92/100\n",
            "39/39 [==============================] - 5s 134ms/step - loss: 1.3223e-04 - val_loss: 2.5383e-06\n",
            "Epoch 93/100\n",
            "39/39 [==============================] - 5s 123ms/step - loss: 1.1621e-04 - val_loss: 1.8672e-06\n",
            "Epoch 94/100\n",
            "39/39 [==============================] - 5s 133ms/step - loss: 1.1608e-04 - val_loss: 1.6779e-05\n",
            "Epoch 95/100\n",
            "39/39 [==============================] - 5s 122ms/step - loss: 1.4089e-04 - val_loss: 1.4310e-05\n",
            "Epoch 96/100\n",
            "39/39 [==============================] - 5s 125ms/step - loss: 1.2508e-04 - val_loss: 3.5423e-06\n",
            "Epoch 97/100\n",
            "39/39 [==============================] - 5s 128ms/step - loss: 1.2557e-04 - val_loss: 4.3290e-06\n",
            "Epoch 98/100\n",
            "39/39 [==============================] - 5s 123ms/step - loss: 1.2114e-04 - val_loss: 7.1385e-06\n",
            "Epoch 99/100\n",
            "39/39 [==============================] - 5s 133ms/step - loss: 1.2008e-04 - val_loss: 1.8743e-06\n",
            "Epoch 100/100\n",
            "39/39 [==============================] - 5s 123ms/step - loss: 1.2043e-04 - val_loss: 1.7095e-06\n"
          ]
        },
        {
          "output_type": "execute_result",
          "data": {
            "text/plain": [
              "<keras.callbacks.History at 0x7fcca5e1ff10>"
            ]
          },
          "metadata": {},
          "execution_count": 26
        }
      ],
      "source": [
        "model.fit(X_train,y_train,validation_data=(X_test,ytest),epochs=100,batch_size=64,verbose=1)"
      ]
    },
    {
      "cell_type": "code",
      "execution_count": null,
      "metadata": {
        "id": "e6061C2ab19d"
      },
      "outputs": [],
      "source": [
        "import tensorflow as tf"
      ]
    },
    {
      "cell_type": "code",
      "execution_count": null,
      "metadata": {
        "colab": {
          "base_uri": "https://localhost:8080/",
          "height": 35
        },
        "id": "t87gVA4Fb19e",
        "outputId": "86d36512-9e14-4d45-8e57-78f43c1113ae"
      },
      "outputs": [
        {
          "output_type": "execute_result",
          "data": {
            "text/plain": [
              "'2.12.0'"
            ],
            "application/vnd.google.colaboratory.intrinsic+json": {
              "type": "string"
            }
          },
          "metadata": {},
          "execution_count": 51
        }
      ],
      "source": [
        "tf.__version__"
      ]
    },
    {
      "cell_type": "code",
      "execution_count": null,
      "metadata": {
        "colab": {
          "base_uri": "https://localhost:8080/"
        },
        "id": "My0Oc7g0b19e",
        "outputId": "0ab5a9f2-2294-4dfb-b226-2ce09bc8aeb1"
      },
      "outputs": [
        {
          "output_type": "stream",
          "name": "stdout",
          "text": [
            "78/78 [==============================] - 3s 41ms/step\n",
            "41/41 [==============================] - 2s 44ms/step\n"
          ]
        }
      ],
      "source": [
        "### Lets Do the prediction and check performance metrics\n",
        "train_predict=model.predict(X_train)\n",
        "test_predict=model.predict(X_test)"
      ]
    },
    {
      "cell_type": "code",
      "execution_count": null,
      "metadata": {
        "id": "RrhbnbgMb19f"
      },
      "outputs": [],
      "source": [
        "##Transformback to original form\n",
        "train_predict=scaler.inverse_transform(train_predict)\n",
        "test_predict=scaler.inverse_transform(test_predict)"
      ]
    },
    {
      "cell_type": "code",
      "execution_count": null,
      "metadata": {
        "colab": {
          "base_uri": "https://localhost:8080/"
        },
        "id": "bQ-CvRctb19f",
        "outputId": "847d9eb1-3b2a-40af-a93a-a10564877e81"
      },
      "outputs": [
        {
          "output_type": "execute_result",
          "data": {
            "text/plain": [
              "2347.6454511349416"
            ]
          },
          "metadata": {},
          "execution_count": 54
        }
      ],
      "source": [
        "### Calculate RMSE performance metrics\n",
        "import math\n",
        "from sklearn.metrics import mean_squared_error\n",
        "math.sqrt(mean_squared_error(y_train,train_predict))"
      ]
    },
    {
      "cell_type": "code",
      "execution_count": null,
      "metadata": {
        "colab": {
          "base_uri": "https://localhost:8080/"
        },
        "id": "qYcSgrmEb19f",
        "outputId": "fe20d37f-c799-45d3-8dbe-5d1fb37d50e3"
      },
      "outputs": [
        {
          "output_type": "execute_result",
          "data": {
            "text/plain": [
              "173.4881199112719"
            ]
          },
          "metadata": {},
          "execution_count": 55
        }
      ],
      "source": [
        "### Test Data RMSE\n",
        "math.sqrt(mean_squared_error(ytest,test_predict))"
      ]
    },
    {
      "cell_type": "code",
      "execution_count": null,
      "metadata": {
        "colab": {
          "base_uri": "https://localhost:8080/",
          "height": 430
        },
        "id": "F96Bvgpsb19f",
        "outputId": "78d2cf7c-ece7-4699-d0f9-d01da666755c"
      },
      "outputs": [
        {
          "output_type": "display_data",
          "data": {
            "text/plain": [
              "<Figure size 640x480 with 1 Axes>"
            ],
            "image/png": "[encoded data removed]"
          },
          "metadata": {}
        }
      ],
      "source": [
        "### Plotting\n",
        "# shift train predictions for plotting\n",
        "look_back=100\n",
        "trainPredictPlot = numpy.empty_like(df1)\n",
        "trainPredictPlot[:, :] = np.nan\n",
        "trainPredictPlot[look_back:len(train_predict)+look_back, :] = train_predict\n",
        "# shift test predictions for plotting\n",
        "testPredictPlot = numpy.empty_like(df1)\n",
        "testPredictPlot[:, :] = numpy.nan\n",
        "testPredictPlot[len(train_predict)+(look_back*2)+1:len(df1)-1, :] = test_predict\n",
        "# plot baseline and predictions\n",
        "plt.plot(scaler.inverse_transform(df1))\n",
        "plt.plot(trainPredictPlot)\n",
        "plt.plot(testPredictPlot)\n",
        "plt.show()"
      ]
    },
    {
      "cell_type": "code",
      "execution_count": null,
      "metadata": {
        "colab": {
          "base_uri": "https://localhost:8080/"
        },
        "id": "aavPgeyIb19g",
        "outputId": "ccd5c571-6db1-4272-d131-b78b946f6d0e"
      },
      "outputs": [
        {
          "output_type": "execute_result",
          "data": {
            "text/plain": [
              "1395"
            ]
          },
          "metadata": {},
          "execution_count": 57
        }
      ],
      "source": [
        "len(test_data)"
      ]
    },
    {
      "cell_type": "code",
      "execution_count": null,
      "metadata": {
        "colab": {
          "base_uri": "https://localhost:8080/"
        },
        "id": "0PC0D3z1b199",
        "outputId": "86787340-4dc0-4ea3-c003-e86c0481e738"
      },
      "outputs": [
        {
          "output_type": "execute_result",
          "data": {
            "text/plain": [
              "(1, 100)"
            ]
          },
          "metadata": {},
          "execution_count": 58
        }
      ],
      "source": [
        "x_input=test_data[1295:].reshape(1,-1)\n",
        "x_input.shape\n"
      ]
    },
    {
      "cell_type": "code",
      "execution_count": null,
      "metadata": {
        "id": "g1eM_g2Jb19-"
      },
      "outputs": [],
      "source": []
    },
    {
      "cell_type": "code",
      "execution_count": null,
      "metadata": {
        "id": "o_xbTPu8b19-"
      },
      "outputs": [],
      "source": []
    },
    {
      "cell_type": "code",
      "execution_count": null,
      "metadata": {
        "id": "9O99iCoWb19-"
      },
      "outputs": [],
      "source": [
        "temp_input=list(x_input)\n",
        "temp_input=temp_input[0].tolist()"
      ]
    },
    {
      "cell_type": "code",
      "execution_count": null,
      "metadata": {
        "colab": {
          "base_uri": "https://localhost:8080/"
        },
        "id": "CfC8oPTEb19-",
        "outputId": "f839c86b-626e-49d0-e08a-836d81e1b703"
      },
      "outputs": [
        {
          "output_type": "execute_result",
          "data": {
            "text/plain": [
              "[0.010571263296874103,\n",
              " 0.011502982827216807,\n",
              " 0.010489572248005192,\n",
              " 0.009301740240127521,\n",
              " 0.008871206333926514,\n",
              " 0.00831703192132931,\n",
              " 0.008158065555962778,\n",
              " 0.007255048286033475,\n",
              " 0.007495705700268914,\n",
              " 0.007769481107289044,\n",
              " 0.007738570980689998,\n",
              " 0.008400930836383862,\n",
              " 0.009167060402803105,\n",
              " 0.009613049372303641,\n",
              " 0.010871533098121989,\n",
              " 0.008864582735369577,\n",
              " 0.006544115374255394,\n",
              " 0.005234850726167188,\n",
              " 0.005210564198125076,\n",
              " 0.004927957326362361,\n",
              " 0.0039587040708636695,\n",
              " 0.004155204161386185,\n",
              " 0.004338457054794818,\n",
              " 0.004364951449022578,\n",
              " 0.003930001810450268,\n",
              " 0.0036672657343583687,\n",
              " 0.0034067375244521136,\n",
              " 0.003812984902611019,\n",
              " 0.003687136530029188,\n",
              " 0.0041596198937574776,\n",
              " 0.00430313119582448,\n",
              " 0.003576743220746876,\n",
              " 0.0032477711590855884,\n",
              " 0.0032411475605286476,\n",
              " 0.0033360858065114365,\n",
              " 0.0032477711590855884,\n",
              " 0.0033073835460980354,\n",
              " 0.0030203609419640273,\n",
              " 0.003146209314545862,\n",
              " 0.0029055519003104227,\n",
              " 0.0037070073257,\n",
              " 0.0030534789347487212,\n",
              " 0.0034089453906377618,\n",
              " 0.003768827578898095,\n",
              " 0.003537001629405241,\n",
              " 0.0036893443962148324,\n",
              " 0.0039035074162225153,\n",
              " 0.004353912118094345,\n",
              " 0.004470929025933594,\n",
              " 0.003817400634982312,\n",
              " 0.0037842826421976214,\n",
              " 0.003790906240754559,\n",
              " 0.00437378291376516,\n",
              " 0.004612232461814948,\n",
              " 0.0029872429491793334,\n",
              " 0.003144001448360214,\n",
              " 0.003011529477221442,\n",
              " 0.0042788446677823715,\n",
              " 0.004709378573983382,\n",
              " 0.004592361666144133,\n",
              " 0.0033956981935238835,\n",
              " 0.0033647880669248377,\n",
              " 0.0038416871630244202,\n",
              " 0.002565540507720905,\n",
              " 0.0026074899652481845,\n",
              " 0.0039035074162225153,\n",
              " 0.004334041322423529,\n",
              " 0.0037864905083832626,\n",
              " 0.0029320462945381792,\n",
              " 0.003952080472306732,\n",
              " 0.003810777036425371,\n",
              " 0.0023690404171983898,\n",
              " 0.0019782481023390107,\n",
              " 0.0022144897842031573,\n",
              " 0.00210630434110649,\n",
              " 0.001931882912440442,\n",
              " 0.0017640850823313278,\n",
              " 0.0005718373420823715,\n",
              " 0.0014174500911848728,\n",
              " 0.0013622534365437151,\n",
              " 0.0011767926769494334,\n",
              " 0.000986916184983859,\n",
              " 0.001110556691380049,\n",
              " 0.0010818544309666445,\n",
              " 0.001046528571996306,\n",
              " 0.000832365551988623,\n",
              " 0.0006380733276517558,\n",
              " 0.0009052251361149483,\n",
              " 0.0007263879750776039,\n",
              " 0.000814702622503452,\n",
              " 0.0008124947563178074,\n",
              " 0.00041949457527277675,\n",
              " 0.0008279498196173303,\n",
              " 0.0006093710672383547,\n",
              " 0.0002583203437206069,\n",
              " 0.00037533725155985617,\n",
              " 0.00038858444867373096,\n",
              " 0.00039520804723066835,\n",
              " 0.0002583203437206069,\n",
              " 0.0003046855336191756]"
            ]
          },
          "metadata": {},
          "execution_count": 60
        }
      ],
      "source": [
        "temp_input"
      ]
    },
    {
      "cell_type": "code",
      "execution_count": null,
      "metadata": {
        "colab": {
          "base_uri": "https://localhost:8080/"
        },
        "id": "TINDpfyxb19_",
        "outputId": "fac7a9cc-0824-4164-d616-6139c32891cf"
      },
      "outputs": [
        {
          "output_type": "stream",
          "name": "stdout",
          "text": [
            "[0.00137234]\n",
            "101\n",
            "1 day input [0.01150298 0.01048957 0.00930174 0.00887121 0.00831703 0.00815807\n",
            " 0.00725505 0.00749571 0.00776948 0.00773857 0.00840093 0.00916706\n",
            " 0.00961305 0.01087153 0.00886458 0.00654412 0.00523485 0.00521056\n",
            " 0.00492796 0.0039587  0.0041552  0.00433846 0.00436495 0.00393\n",
            " 0.00366727 0.00340674 0.00381298 0.00368714 0.00415962 0.00430313\n",
            " 0.00357674 0.00324777 0.00324115 0.00333609 0.00324777 0.00330738\n",
            " 0.00302036 0.00314621 0.00290555 0.00370701 0.00305348 0.00340895\n",
            " 0.00376883 0.003537   0.00368934 0.00390351 0.00435391 0.00447093\n",
            " 0.0038174  0.00378428 0.00379091 0.00437378 0.00461223 0.00298724\n",
            " 0.003144   0.00301153 0.00427884 0.00470938 0.00459236 0.0033957\n",
            " 0.00336479 0.00384169 0.00256554 0.00260749 0.00390351 0.00433404\n",
            " 0.00378649 0.00293205 0.00395208 0.00381078 0.00236904 0.00197825\n",
            " 0.00221449 0.0021063  0.00193188 0.00176409 0.00057184 0.00141745\n",
            " 0.00136225 0.00117679 0.00098692 0.00111056 0.00108185 0.00104653\n",
            " 0.00083237 0.00063807 0.00090523 0.00072639 0.0008147  0.00081249\n",
            " 0.00041949 0.00082795 0.00060937 0.00025832 0.00037534 0.00038858\n",
            " 0.00039521 0.00025832 0.00030469 0.00137234]\n",
            "1 day output [[0.00140336]]\n",
            "2 day input [0.01048957 0.00930174 0.00887121 0.00831703 0.00815807 0.00725505\n",
            " 0.00749571 0.00776948 0.00773857 0.00840093 0.00916706 0.00961305\n",
            " 0.01087153 0.00886458 0.00654412 0.00523485 0.00521056 0.00492796\n",
            " 0.0039587  0.0041552  0.00433846 0.00436495 0.00393    0.00366727\n",
            " 0.00340674 0.00381298 0.00368714 0.00415962 0.00430313 0.00357674\n",
            " 0.00324777 0.00324115 0.00333609 0.00324777 0.00330738 0.00302036\n",
            " 0.00314621 0.00290555 0.00370701 0.00305348 0.00340895 0.00376883\n",
            " 0.003537   0.00368934 0.00390351 0.00435391 0.00447093 0.0038174\n",
            " 0.00378428 0.00379091 0.00437378 0.00461223 0.00298724 0.003144\n",
            " 0.00301153 0.00427884 0.00470938 0.00459236 0.0033957  0.00336479\n",
            " 0.00384169 0.00256554 0.00260749 0.00390351 0.00433404 0.00378649\n",
            " 0.00293205 0.00395208 0.00381078 0.00236904 0.00197825 0.00221449\n",
            " 0.0021063  0.00193188 0.00176409 0.00057184 0.00141745 0.00136225\n",
            " 0.00117679 0.00098692 0.00111056 0.00108185 0.00104653 0.00083237\n",
            " 0.00063807 0.00090523 0.00072639 0.0008147  0.00081249 0.00041949\n",
            " 0.00082795 0.00060937 0.00025832 0.00037534 0.00038858 0.00039521\n",
            " 0.00025832 0.00030469 0.00137234 0.00140336]\n",
            "2 day output [[0.00149454]]\n",
            "3 day input [0.00930174 0.00887121 0.00831703 0.00815807 0.00725505 0.00749571\n",
            " 0.00776948 0.00773857 0.00840093 0.00916706 0.00961305 0.01087153\n",
            " 0.00886458 0.00654412 0.00523485 0.00521056 0.00492796 0.0039587\n",
            " 0.0041552  0.00433846 0.00436495 0.00393    0.00366727 0.00340674\n",
            " 0.00381298 0.00368714 0.00415962 0.00430313 0.00357674 0.00324777\n",
            " 0.00324115 0.00333609 0.00324777 0.00330738 0.00302036 0.00314621\n",
            " 0.00290555 0.00370701 0.00305348 0.00340895 0.00376883 0.003537\n",
            " 0.00368934 0.00390351 0.00435391 0.00447093 0.0038174  0.00378428\n",
            " 0.00379091 0.00437378 0.00461223 0.00298724 0.003144   0.00301153\n",
            " 0.00427884 0.00470938 0.00459236 0.0033957  0.00336479 0.00384169\n",
            " 0.00256554 0.00260749 0.00390351 0.00433404 0.00378649 0.00293205\n",
            " 0.00395208 0.00381078 0.00236904 0.00197825 0.00221449 0.0021063\n",
            " 0.00193188 0.00176409 0.00057184 0.00141745 0.00136225 0.00117679\n",
            " 0.00098692 0.00111056 0.00108185 0.00104653 0.00083237 0.00063807\n",
            " 0.00090523 0.00072639 0.0008147  0.00081249 0.00041949 0.00082795\n",
            " 0.00060937 0.00025832 0.00037534 0.00038858 0.00039521 0.00025832\n",
            " 0.00030469 0.00137234 0.00140336 0.00149454]\n",
            "3 day output [[0.00162354]]\n",
            "4 day input [0.00887121 0.00831703 0.00815807 0.00725505 0.00749571 0.00776948\n",
            " 0.00773857 0.00840093 0.00916706 0.00961305 0.01087153 0.00886458\n",
            " 0.00654412 0.00523485 0.00521056 0.00492796 0.0039587  0.0041552\n",
            " 0.00433846 0.00436495 0.00393    0.00366727 0.00340674 0.00381298\n",
            " 0.00368714 0.00415962 0.00430313 0.00357674 0.00324777 0.00324115\n",
            " 0.00333609 0.00324777 0.00330738 0.00302036 0.00314621 0.00290555\n",
            " 0.00370701 0.00305348 0.00340895 0.00376883 0.003537   0.00368934\n",
            " 0.00390351 0.00435391 0.00447093 0.0038174  0.00378428 0.00379091\n",
            " 0.00437378 0.00461223 0.00298724 0.003144   0.00301153 0.00427884\n",
            " 0.00470938 0.00459236 0.0033957  0.00336479 0.00384169 0.00256554\n",
            " 0.00260749 0.00390351 0.00433404 0.00378649 0.00293205 0.00395208\n",
            " 0.00381078 0.00236904 0.00197825 0.00221449 0.0021063  0.00193188\n",
            " 0.00176409 0.00057184 0.00141745 0.00136225 0.00117679 0.00098692\n",
            " 0.00111056 0.00108185 0.00104653 0.00083237 0.00063807 0.00090523\n",
            " 0.00072639 0.0008147  0.00081249 0.00041949 0.00082795 0.00060937\n",
            " 0.00025832 0.00037534 0.00038858 0.00039521 0.00025832 0.00030469\n",
            " 0.00137234 0.00140336 0.00149454 0.00162354]\n",
            "4 day output [[0.00177146]]\n",
            "5 day input [0.00831703 0.00815807 0.00725505 0.00749571 0.00776948 0.00773857\n",
            " 0.00840093 0.00916706 0.00961305 0.01087153 0.00886458 0.00654412\n",
            " 0.00523485 0.00521056 0.00492796 0.0039587  0.0041552  0.00433846\n",
            " 0.00436495 0.00393    0.00366727 0.00340674 0.00381298 0.00368714\n",
            " 0.00415962 0.00430313 0.00357674 0.00324777 0.00324115 0.00333609\n",
            " 0.00324777 0.00330738 0.00302036 0.00314621 0.00290555 0.00370701\n",
            " 0.00305348 0.00340895 0.00376883 0.003537   0.00368934 0.00390351\n",
            " 0.00435391 0.00447093 0.0038174  0.00378428 0.00379091 0.00437378\n",
            " 0.00461223 0.00298724 0.003144   0.00301153 0.00427884 0.00470938\n",
            " 0.00459236 0.0033957  0.00336479 0.00384169 0.00256554 0.00260749\n",
            " 0.00390351 0.00433404 0.00378649 0.00293205 0.00395208 0.00381078\n",
            " 0.00236904 0.00197825 0.00221449 0.0021063  0.00193188 0.00176409\n",
            " 0.00057184 0.00141745 0.00136225 0.00117679 0.00098692 0.00111056\n",
            " 0.00108185 0.00104653 0.00083237 0.00063807 0.00090523 0.00072639\n",
            " 0.0008147  0.00081249 0.00041949 0.00082795 0.00060937 0.00025832\n",
            " 0.00037534 0.00038858 0.00039521 0.00025832 0.00030469 0.00137234\n",
            " 0.00140336 0.00149454 0.00162354 0.00177146]\n",
            "5 day output [[0.00192601]]\n",
            "6 day input [0.00815807 0.00725505 0.00749571 0.00776948 0.00773857 0.00840093\n",
            " 0.00916706 0.00961305 0.01087153 0.00886458 0.00654412 0.00523485\n",
            " 0.00521056 0.00492796 0.0039587  0.0041552  0.00433846 0.00436495\n",
            " 0.00393    0.00366727 0.00340674 0.00381298 0.00368714 0.00415962\n",
            " 0.00430313 0.00357674 0.00324777 0.00324115 0.00333609 0.00324777\n",
            " 0.00330738 0.00302036 0.00314621 0.00290555 0.00370701 0.00305348\n",
            " 0.00340895 0.00376883 0.003537   0.00368934 0.00390351 0.00435391\n",
            " 0.00447093 0.0038174  0.00378428 0.00379091 0.00437378 0.00461223\n",
            " 0.00298724 0.003144   0.00301153 0.00427884 0.00470938 0.00459236\n",
            " 0.0033957  0.00336479 0.00384169 0.00256554 0.00260749 0.00390351\n",
            " 0.00433404 0.00378649 0.00293205 0.00395208 0.00381078 0.00236904\n",
            " 0.00197825 0.00221449 0.0021063  0.00193188 0.00176409 0.00057184\n",
            " 0.00141745 0.00136225 0.00117679 0.00098692 0.00111056 0.00108185\n",
            " 0.00104653 0.00083237 0.00063807 0.00090523 0.00072639 0.0008147\n",
            " 0.00081249 0.00041949 0.00082795 0.00060937 0.00025832 0.00037534\n",
            " 0.00038858 0.00039521 0.00025832 0.00030469 0.00137234 0.00140336\n",
            " 0.00149454 0.00162354 0.00177146 0.00192601]\n",
            "6 day output [[0.00208042]]\n",
            "7 day input [0.00725505 0.00749571 0.00776948 0.00773857 0.00840093 0.00916706\n",
            " 0.00961305 0.01087153 0.00886458 0.00654412 0.00523485 0.00521056\n",
            " 0.00492796 0.0039587  0.0041552  0.00433846 0.00436495 0.00393\n",
            " 0.00366727 0.00340674 0.00381298 0.00368714 0.00415962 0.00430313\n",
            " 0.00357674 0.00324777 0.00324115 0.00333609 0.00324777 0.00330738\n",
            " 0.00302036 0.00314621 0.00290555 0.00370701 0.00305348 0.00340895\n",
            " 0.00376883 0.003537   0.00368934 0.00390351 0.00435391 0.00447093\n",
            " 0.0038174  0.00378428 0.00379091 0.00437378 0.00461223 0.00298724\n",
            " 0.003144   0.00301153 0.00427884 0.00470938 0.00459236 0.0033957\n",
            " 0.00336479 0.00384169 0.00256554 0.00260749 0.00390351 0.00433404\n",
            " 0.00378649 0.00293205 0.00395208 0.00381078 0.00236904 0.00197825\n",
            " 0.00221449 0.0021063  0.00193188 0.00176409 0.00057184 0.00141745\n",
            " 0.00136225 0.00117679 0.00098692 0.00111056 0.00108185 0.00104653\n",
            " 0.00083237 0.00063807 0.00090523 0.00072639 0.0008147  0.00081249\n",
            " 0.00041949 0.00082795 0.00060937 0.00025832 0.00037534 0.00038858\n",
            " 0.00039521 0.00025832 0.00030469 0.00137234 0.00140336 0.00149454\n",
            " 0.00162354 0.00177146 0.00192601 0.00208042]\n",
            "7 day output [[0.00223163]]\n",
            "8 day input [0.00749571 0.00776948 0.00773857 0.00840093 0.00916706 0.00961305\n",
            " 0.01087153 0.00886458 0.00654412 0.00523485 0.00521056 0.00492796\n",
            " 0.0039587  0.0041552  0.00433846 0.00436495 0.00393    0.00366727\n",
            " 0.00340674 0.00381298 0.00368714 0.00415962 0.00430313 0.00357674\n",
            " 0.00324777 0.00324115 0.00333609 0.00324777 0.00330738 0.00302036\n",
            " 0.00314621 0.00290555 0.00370701 0.00305348 0.00340895 0.00376883\n",
            " 0.003537   0.00368934 0.00390351 0.00435391 0.00447093 0.0038174\n",
            " 0.00378428 0.00379091 0.00437378 0.00461223 0.00298724 0.003144\n",
            " 0.00301153 0.00427884 0.00470938 0.00459236 0.0033957  0.00336479\n",
            " 0.00384169 0.00256554 0.00260749 0.00390351 0.00433404 0.00378649\n",
            " 0.00293205 0.00395208 0.00381078 0.00236904 0.00197825 0.00221449\n",
            " 0.0021063  0.00193188 0.00176409 0.00057184 0.00141745 0.00136225\n",
            " 0.00117679 0.00098692 0.00111056 0.00108185 0.00104653 0.00083237\n",
            " 0.00063807 0.00090523 0.00072639 0.0008147  0.00081249 0.00041949\n",
            " 0.00082795 0.00060937 0.00025832 0.00037534 0.00038858 0.00039521\n",
            " 0.00025832 0.00030469 0.00137234 0.00140336 0.00149454 0.00162354\n",
            " 0.00177146 0.00192601 0.00208042 0.00223163]\n",
            "8 day output [[0.00237865]]\n",
            "9 day input [0.00776948 0.00773857 0.00840093 0.00916706 0.00961305 0.01087153\n",
            " 0.00886458 0.00654412 0.00523485 0.00521056 0.00492796 0.0039587\n",
            " 0.0041552  0.00433846 0.00436495 0.00393    0.00366727 0.00340674\n",
            " 0.00381298 0.00368714 0.00415962 0.00430313 0.00357674 0.00324777\n",
            " 0.00324115 0.00333609 0.00324777 0.00330738 0.00302036 0.00314621\n",
            " 0.00290555 0.00370701 0.00305348 0.00340895 0.00376883 0.003537\n",
            " 0.00368934 0.00390351 0.00435391 0.00447093 0.0038174  0.00378428\n",
            " 0.00379091 0.00437378 0.00461223 0.00298724 0.003144   0.00301153\n",
            " 0.00427884 0.00470938 0.00459236 0.0033957  0.00336479 0.00384169\n",
            " 0.00256554 0.00260749 0.00390351 0.00433404 0.00378649 0.00293205\n",
            " 0.00395208 0.00381078 0.00236904 0.00197825 0.00221449 0.0021063\n",
            " 0.00193188 0.00176409 0.00057184 0.00141745 0.00136225 0.00117679\n",
            " 0.00098692 0.00111056 0.00108185 0.00104653 0.00083237 0.00063807\n",
            " 0.00090523 0.00072639 0.0008147  0.00081249 0.00041949 0.00082795\n",
            " 0.00060937 0.00025832 0.00037534 0.00038858 0.00039521 0.00025832\n",
            " 0.00030469 0.00137234 0.00140336 0.00149454 0.00162354 0.00177146\n",
            " 0.00192601 0.00208042 0.00223163 0.00237865]\n",
            "9 day output [[0.00252147]]\n",
            "10 day input [0.00773857 0.00840093 0.00916706 0.00961305 0.01087153 0.00886458\n",
            " 0.00654412 0.00523485 0.00521056 0.00492796 0.0039587  0.0041552\n",
            " 0.00433846 0.00436495 0.00393    0.00366727 0.00340674 0.00381298\n",
            " 0.00368714 0.00415962 0.00430313 0.00357674 0.00324777 0.00324115\n",
            " 0.00333609 0.00324777 0.00330738 0.00302036 0.00314621 0.00290555\n",
            " 0.00370701 0.00305348 0.00340895 0.00376883 0.003537   0.00368934\n",
            " 0.00390351 0.00435391 0.00447093 0.0038174  0.00378428 0.00379091\n",
            " 0.00437378 0.00461223 0.00298724 0.003144   0.00301153 0.00427884\n",
            " 0.00470938 0.00459236 0.0033957  0.00336479 0.00384169 0.00256554\n",
            " 0.00260749 0.00390351 0.00433404 0.00378649 0.00293205 0.00395208\n",
            " 0.00381078 0.00236904 0.00197825 0.00221449 0.0021063  0.00193188\n",
            " 0.00176409 0.00057184 0.00141745 0.00136225 0.00117679 0.00098692\n",
            " 0.00111056 0.00108185 0.00104653 0.00083237 0.00063807 0.00090523\n",
            " 0.00072639 0.0008147  0.00081249 0.00041949 0.00082795 0.00060937\n",
            " 0.00025832 0.00037534 0.00038858 0.00039521 0.00025832 0.00030469\n",
            " 0.00137234 0.00140336 0.00149454 0.00162354 0.00177146 0.00192601\n",
            " 0.00208042 0.00223163 0.00237865 0.00252147]\n",
            "10 day output [[0.00266042]]\n",
            "11 day input [0.00840093 0.00916706 0.00961305 0.01087153 0.00886458 0.00654412\n",
            " 0.00523485 0.00521056 0.00492796 0.0039587  0.0041552  0.00433846\n",
            " 0.00436495 0.00393    0.00366727 0.00340674 0.00381298 0.00368714\n",
            " 0.00415962 0.00430313 0.00357674 0.00324777 0.00324115 0.00333609\n",
            " 0.00324777 0.00330738 0.00302036 0.00314621 0.00290555 0.00370701\n",
            " 0.00305348 0.00340895 0.00376883 0.003537   0.00368934 0.00390351\n",
            " 0.00435391 0.00447093 0.0038174  0.00378428 0.00379091 0.00437378\n",
            " 0.00461223 0.00298724 0.003144   0.00301153 0.00427884 0.00470938\n",
            " 0.00459236 0.0033957  0.00336479 0.00384169 0.00256554 0.00260749\n",
            " 0.00390351 0.00433404 0.00378649 0.00293205 0.00395208 0.00381078\n",
            " 0.00236904 0.00197825 0.00221449 0.0021063  0.00193188 0.00176409\n",
            " 0.00057184 0.00141745 0.00136225 0.00117679 0.00098692 0.00111056\n",
            " 0.00108185 0.00104653 0.00083237 0.00063807 0.00090523 0.00072639\n",
            " 0.0008147  0.00081249 0.00041949 0.00082795 0.00060937 0.00025832\n",
            " 0.00037534 0.00038858 0.00039521 0.00025832 0.00030469 0.00137234\n",
            " 0.00140336 0.00149454 0.00162354 0.00177146 0.00192601 0.00208042\n",
            " 0.00223163 0.00237865 0.00252147 0.00266042]\n",
            "11 day output [[0.00279592]]\n",
            "12 day input [0.00916706 0.00961305 0.01087153 0.00886458 0.00654412 0.00523485\n",
            " 0.00521056 0.00492796 0.0039587  0.0041552  0.00433846 0.00436495\n",
            " 0.00393    0.00366727 0.00340674 0.00381298 0.00368714 0.00415962\n",
            " 0.00430313 0.00357674 0.00324777 0.00324115 0.00333609 0.00324777\n",
            " 0.00330738 0.00302036 0.00314621 0.00290555 0.00370701 0.00305348\n",
            " 0.00340895 0.00376883 0.003537   0.00368934 0.00390351 0.00435391\n",
            " 0.00447093 0.0038174  0.00378428 0.00379091 0.00437378 0.00461223\n",
            " 0.00298724 0.003144   0.00301153 0.00427884 0.00470938 0.00459236\n",
            " 0.0033957  0.00336479 0.00384169 0.00256554 0.00260749 0.00390351\n",
            " 0.00433404 0.00378649 0.00293205 0.00395208 0.00381078 0.00236904\n",
            " 0.00197825 0.00221449 0.0021063  0.00193188 0.00176409 0.00057184\n",
            " 0.00141745 0.00136225 0.00117679 0.00098692 0.00111056 0.00108185\n",
            " 0.00104653 0.00083237 0.00063807 0.00090523 0.00072639 0.0008147\n",
            " 0.00081249 0.00041949 0.00082795 0.00060937 0.00025832 0.00037534\n",
            " 0.00038858 0.00039521 0.00025832 0.00030469 0.00137234 0.00140336\n",
            " 0.00149454 0.00162354 0.00177146 0.00192601 0.00208042 0.00223163\n",
            " 0.00237865 0.00252147 0.00266042 0.00279592]\n",
            "12 day output [[0.00292834]]\n",
            "13 day input [0.00961305 0.01087153 0.00886458 0.00654412 0.00523485 0.00521056\n",
            " 0.00492796 0.0039587  0.0041552  0.00433846 0.00436495 0.00393\n",
            " 0.00366727 0.00340674 0.00381298 0.00368714 0.00415962 0.00430313\n",
            " 0.00357674 0.00324777 0.00324115 0.00333609 0.00324777 0.00330738\n",
            " 0.00302036 0.00314621 0.00290555 0.00370701 0.00305348 0.00340895\n",
            " 0.00376883 0.003537   0.00368934 0.00390351 0.00435391 0.00447093\n",
            " 0.0038174  0.00378428 0.00379091 0.00437378 0.00461223 0.00298724\n",
            " 0.003144   0.00301153 0.00427884 0.00470938 0.00459236 0.0033957\n",
            " 0.00336479 0.00384169 0.00256554 0.00260749 0.00390351 0.00433404\n",
            " 0.00378649 0.00293205 0.00395208 0.00381078 0.00236904 0.00197825\n",
            " 0.00221449 0.0021063  0.00193188 0.00176409 0.00057184 0.00141745\n",
            " 0.00136225 0.00117679 0.00098692 0.00111056 0.00108185 0.00104653\n",
            " 0.00083237 0.00063807 0.00090523 0.00072639 0.0008147  0.00081249\n",
            " 0.00041949 0.00082795 0.00060937 0.00025832 0.00037534 0.00038858\n",
            " 0.00039521 0.00025832 0.00030469 0.00137234 0.00140336 0.00149454\n",
            " 0.00162354 0.00177146 0.00192601 0.00208042 0.00223163 0.00237865\n",
            " 0.00252147 0.00266042 0.00279592 0.00292834]\n",
            "13 day output [[0.00305797]]\n",
            "14 day input [0.01087153 0.00886458 0.00654412 0.00523485 0.00521056 0.00492796\n",
            " 0.0039587  0.0041552  0.00433846 0.00436495 0.00393    0.00366727\n",
            " 0.00340674 0.00381298 0.00368714 0.00415962 0.00430313 0.00357674\n",
            " 0.00324777 0.00324115 0.00333609 0.00324777 0.00330738 0.00302036\n",
            " 0.00314621 0.00290555 0.00370701 0.00305348 0.00340895 0.00376883\n",
            " 0.003537   0.00368934 0.00390351 0.00435391 0.00447093 0.0038174\n",
            " 0.00378428 0.00379091 0.00437378 0.00461223 0.00298724 0.003144\n",
            " 0.00301153 0.00427884 0.00470938 0.00459236 0.0033957  0.00336479\n",
            " 0.00384169 0.00256554 0.00260749 0.00390351 0.00433404 0.00378649\n",
            " 0.00293205 0.00395208 0.00381078 0.00236904 0.00197825 0.00221449\n",
            " 0.0021063  0.00193188 0.00176409 0.00057184 0.00141745 0.00136225\n",
            " 0.00117679 0.00098692 0.00111056 0.00108185 0.00104653 0.00083237\n",
            " 0.00063807 0.00090523 0.00072639 0.0008147  0.00081249 0.00041949\n",
            " 0.00082795 0.00060937 0.00025832 0.00037534 0.00038858 0.00039521\n",
            " 0.00025832 0.00030469 0.00137234 0.00140336 0.00149454 0.00162354\n",
            " 0.00177146 0.00192601 0.00208042 0.00223163 0.00237865 0.00252147\n",
            " 0.00266042 0.00279592 0.00292834 0.00305797]\n",
            "14 day output [[0.00318501]]\n",
            "15 day input [0.00886458 0.00654412 0.00523485 0.00521056 0.00492796 0.0039587\n",
            " 0.0041552  0.00433846 0.00436495 0.00393    0.00366727 0.00340674\n",
            " 0.00381298 0.00368714 0.00415962 0.00430313 0.00357674 0.00324777\n",
            " 0.00324115 0.00333609 0.00324777 0.00330738 0.00302036 0.00314621\n",
            " 0.00290555 0.00370701 0.00305348 0.00340895 0.00376883 0.003537\n",
            " 0.00368934 0.00390351 0.00435391 0.00447093 0.0038174  0.00378428\n",
            " 0.00379091 0.00437378 0.00461223 0.00298724 0.003144   0.00301153\n",
            " 0.00427884 0.00470938 0.00459236 0.0033957  0.00336479 0.00384169\n",
            " 0.00256554 0.00260749 0.00390351 0.00433404 0.00378649 0.00293205\n",
            " 0.00395208 0.00381078 0.00236904 0.00197825 0.00221449 0.0021063\n",
            " 0.00193188 0.00176409 0.00057184 0.00141745 0.00136225 0.00117679\n",
            " 0.00098692 0.00111056 0.00108185 0.00104653 0.00083237 0.00063807\n",
            " 0.00090523 0.00072639 0.0008147  0.00081249 0.00041949 0.00082795\n",
            " 0.00060937 0.00025832 0.00037534 0.00038858 0.00039521 0.00025832\n",
            " 0.00030469 0.00137234 0.00140336 0.00149454 0.00162354 0.00177146\n",
            " 0.00192601 0.00208042 0.00223163 0.00237865 0.00252147 0.00266042\n",
            " 0.00279592 0.00292834 0.00305797 0.00318501]\n",
            "15 day output [[0.00330961]]\n",
            "16 day input [0.00654412 0.00523485 0.00521056 0.00492796 0.0039587  0.0041552\n",
            " 0.00433846 0.00436495 0.00393    0.00366727 0.00340674 0.00381298\n",
            " 0.00368714 0.00415962 0.00430313 0.00357674 0.00324777 0.00324115\n",
            " 0.00333609 0.00324777 0.00330738 0.00302036 0.00314621 0.00290555\n",
            " 0.00370701 0.00305348 0.00340895 0.00376883 0.003537   0.00368934\n",
            " 0.00390351 0.00435391 0.00447093 0.0038174  0.00378428 0.00379091\n",
            " 0.00437378 0.00461223 0.00298724 0.003144   0.00301153 0.00427884\n",
            " 0.00470938 0.00459236 0.0033957  0.00336479 0.00384169 0.00256554\n",
            " 0.00260749 0.00390351 0.00433404 0.00378649 0.00293205 0.00395208\n",
            " 0.00381078 0.00236904 0.00197825 0.00221449 0.0021063  0.00193188\n",
            " 0.00176409 0.00057184 0.00141745 0.00136225 0.00117679 0.00098692\n",
            " 0.00111056 0.00108185 0.00104653 0.00083237 0.00063807 0.00090523\n",
            " 0.00072639 0.0008147  0.00081249 0.00041949 0.00082795 0.00060937\n",
            " 0.00025832 0.00037534 0.00038858 0.00039521 0.00025832 0.00030469\n",
            " 0.00137234 0.00140336 0.00149454 0.00162354 0.00177146 0.00192601\n",
            " 0.00208042 0.00223163 0.00237865 0.00252147 0.00266042 0.00279592\n",
            " 0.00292834 0.00305797 0.00318501 0.00330961]\n",
            "16 day output [[0.00343187]]\n",
            "17 day input [0.00523485 0.00521056 0.00492796 0.0039587  0.0041552  0.00433846\n",
            " 0.00436495 0.00393    0.00366727 0.00340674 0.00381298 0.00368714\n",
            " 0.00415962 0.00430313 0.00357674 0.00324777 0.00324115 0.00333609\n",
            " 0.00324777 0.00330738 0.00302036 0.00314621 0.00290555 0.00370701\n",
            " 0.00305348 0.00340895 0.00376883 0.003537   0.00368934 0.00390351\n",
            " 0.00435391 0.00447093 0.0038174  0.00378428 0.00379091 0.00437378\n",
            " 0.00461223 0.00298724 0.003144   0.00301153 0.00427884 0.00470938\n",
            " 0.00459236 0.0033957  0.00336479 0.00384169 0.00256554 0.00260749\n",
            " 0.00390351 0.00433404 0.00378649 0.00293205 0.00395208 0.00381078\n",
            " 0.00236904 0.00197825 0.00221449 0.0021063  0.00193188 0.00176409\n",
            " 0.00057184 0.00141745 0.00136225 0.00117679 0.00098692 0.00111056\n",
            " 0.00108185 0.00104653 0.00083237 0.00063807 0.00090523 0.00072639\n",
            " 0.0008147  0.00081249 0.00041949 0.00082795 0.00060937 0.00025832\n",
            " 0.00037534 0.00038858 0.00039521 0.00025832 0.00030469 0.00137234\n",
            " 0.00140336 0.00149454 0.00162354 0.00177146 0.00192601 0.00208042\n",
            " 0.00223163 0.00237865 0.00252147 0.00266042 0.00279592 0.00292834\n",
            " 0.00305797 0.00318501 0.00330961 0.00343187]\n",
            "17 day output [[0.00355189]]\n",
            "18 day input [0.00521056 0.00492796 0.0039587  0.0041552  0.00433846 0.00436495\n",
            " 0.00393    0.00366727 0.00340674 0.00381298 0.00368714 0.00415962\n",
            " 0.00430313 0.00357674 0.00324777 0.00324115 0.00333609 0.00324777\n",
            " 0.00330738 0.00302036 0.00314621 0.00290555 0.00370701 0.00305348\n",
            " 0.00340895 0.00376883 0.003537   0.00368934 0.00390351 0.00435391\n",
            " 0.00447093 0.0038174  0.00378428 0.00379091 0.00437378 0.00461223\n",
            " 0.00298724 0.003144   0.00301153 0.00427884 0.00470938 0.00459236\n",
            " 0.0033957  0.00336479 0.00384169 0.00256554 0.00260749 0.00390351\n",
            " 0.00433404 0.00378649 0.00293205 0.00395208 0.00381078 0.00236904\n",
            " 0.00197825 0.00221449 0.0021063  0.00193188 0.00176409 0.00057184\n",
            " 0.00141745 0.00136225 0.00117679 0.00098692 0.00111056 0.00108185\n",
            " 0.00104653 0.00083237 0.00063807 0.00090523 0.00072639 0.0008147\n",
            " 0.00081249 0.00041949 0.00082795 0.00060937 0.00025832 0.00037534\n",
            " 0.00038858 0.00039521 0.00025832 0.00030469 0.00137234 0.00140336\n",
            " 0.00149454 0.00162354 0.00177146 0.00192601 0.00208042 0.00223163\n",
            " 0.00237865 0.00252147 0.00266042 0.00279592 0.00292834 0.00305797\n",
            " 0.00318501 0.00330961 0.00343187 0.00355189]\n",
            "18 day output [[0.00366972]]\n",
            "19 day input [0.00492796 0.0039587  0.0041552  0.00433846 0.00436495 0.00393\n",
            " 0.00366727 0.00340674 0.00381298 0.00368714 0.00415962 0.00430313\n",
            " 0.00357674 0.00324777 0.00324115 0.00333609 0.00324777 0.00330738\n",
            " 0.00302036 0.00314621 0.00290555 0.00370701 0.00305348 0.00340895\n",
            " 0.00376883 0.003537   0.00368934 0.00390351 0.00435391 0.00447093\n",
            " 0.0038174  0.00378428 0.00379091 0.00437378 0.00461223 0.00298724\n",
            " 0.003144   0.00301153 0.00427884 0.00470938 0.00459236 0.0033957\n",
            " 0.00336479 0.00384169 0.00256554 0.00260749 0.00390351 0.00433404\n",
            " 0.00378649 0.00293205 0.00395208 0.00381078 0.00236904 0.00197825\n",
            " 0.00221449 0.0021063  0.00193188 0.00176409 0.00057184 0.00141745\n",
            " 0.00136225 0.00117679 0.00098692 0.00111056 0.00108185 0.00104653\n",
            " 0.00083237 0.00063807 0.00090523 0.00072639 0.0008147  0.00081249\n",
            " 0.00041949 0.00082795 0.00060937 0.00025832 0.00037534 0.00038858\n",
            " 0.00039521 0.00025832 0.00030469 0.00137234 0.00140336 0.00149454\n",
            " 0.00162354 0.00177146 0.00192601 0.00208042 0.00223163 0.00237865\n",
            " 0.00252147 0.00266042 0.00279592 0.00292834 0.00305797 0.00318501\n",
            " 0.00330961 0.00343187 0.00355189 0.00366972]\n",
            "19 day output [[0.00378541]]\n",
            "20 day input [0.0039587  0.0041552  0.00433846 0.00436495 0.00393    0.00366727\n",
            " 0.00340674 0.00381298 0.00368714 0.00415962 0.00430313 0.00357674\n",
            " 0.00324777 0.00324115 0.00333609 0.00324777 0.00330738 0.00302036\n",
            " 0.00314621 0.00290555 0.00370701 0.00305348 0.00340895 0.00376883\n",
            " 0.003537   0.00368934 0.00390351 0.00435391 0.00447093 0.0038174\n",
            " 0.00378428 0.00379091 0.00437378 0.00461223 0.00298724 0.003144\n",
            " 0.00301153 0.00427884 0.00470938 0.00459236 0.0033957  0.00336479\n",
            " 0.00384169 0.00256554 0.00260749 0.00390351 0.00433404 0.00378649\n",
            " 0.00293205 0.00395208 0.00381078 0.00236904 0.00197825 0.00221449\n",
            " 0.0021063  0.00193188 0.00176409 0.00057184 0.00141745 0.00136225\n",
            " 0.00117679 0.00098692 0.00111056 0.00108185 0.00104653 0.00083237\n",
            " 0.00063807 0.00090523 0.00072639 0.0008147  0.00081249 0.00041949\n",
            " 0.00082795 0.00060937 0.00025832 0.00037534 0.00038858 0.00039521\n",
            " 0.00025832 0.00030469 0.00137234 0.00140336 0.00149454 0.00162354\n",
            " 0.00177146 0.00192601 0.00208042 0.00223163 0.00237865 0.00252147\n",
            " 0.00266042 0.00279592 0.00292834 0.00305797 0.00318501 0.00330961\n",
            " 0.00343187 0.00355189 0.00366972 0.00378541]\n",
            "20 day output [[0.00389901]]\n",
            "21 day input [0.0041552  0.00433846 0.00436495 0.00393    0.00366727 0.00340674\n",
            " 0.00381298 0.00368714 0.00415962 0.00430313 0.00357674 0.00324777\n",
            " 0.00324115 0.00333609 0.00324777 0.00330738 0.00302036 0.00314621\n",
            " 0.00290555 0.00370701 0.00305348 0.00340895 0.00376883 0.003537\n",
            " 0.00368934 0.00390351 0.00435391 0.00447093 0.0038174  0.00378428\n",
            " 0.00379091 0.00437378 0.00461223 0.00298724 0.003144   0.00301153\n",
            " 0.00427884 0.00470938 0.00459236 0.0033957  0.00336479 0.00384169\n",
            " 0.00256554 0.00260749 0.00390351 0.00433404 0.00378649 0.00293205\n",
            " 0.00395208 0.00381078 0.00236904 0.00197825 0.00221449 0.0021063\n",
            " 0.00193188 0.00176409 0.00057184 0.00141745 0.00136225 0.00117679\n",
            " 0.00098692 0.00111056 0.00108185 0.00104653 0.00083237 0.00063807\n",
            " 0.00090523 0.00072639 0.0008147  0.00081249 0.00041949 0.00082795\n",
            " 0.00060937 0.00025832 0.00037534 0.00038858 0.00039521 0.00025832\n",
            " 0.00030469 0.00137234 0.00140336 0.00149454 0.00162354 0.00177146\n",
            " 0.00192601 0.00208042 0.00223163 0.00237865 0.00252147 0.00266042\n",
            " 0.00279592 0.00292834 0.00305797 0.00318501 0.00330961 0.00343187\n",
            " 0.00355189 0.00366972 0.00378541 0.00389901]\n",
            "21 day output [[0.00401057]]\n",
            "22 day input [0.00433846 0.00436495 0.00393    0.00366727 0.00340674 0.00381298\n",
            " 0.00368714 0.00415962 0.00430313 0.00357674 0.00324777 0.00324115\n",
            " 0.00333609 0.00324777 0.00330738 0.00302036 0.00314621 0.00290555\n",
            " 0.00370701 0.00305348 0.00340895 0.00376883 0.003537   0.00368934\n",
            " 0.00390351 0.00435391 0.00447093 0.0038174  0.00378428 0.00379091\n",
            " 0.00437378 0.00461223 0.00298724 0.003144   0.00301153 0.00427884\n",
            " 0.00470938 0.00459236 0.0033957  0.00336479 0.00384169 0.00256554\n",
            " 0.00260749 0.00390351 0.00433404 0.00378649 0.00293205 0.00395208\n",
            " 0.00381078 0.00236904 0.00197825 0.00221449 0.0021063  0.00193188\n",
            " 0.00176409 0.00057184 0.00141745 0.00136225 0.00117679 0.00098692\n",
            " 0.00111056 0.00108185 0.00104653 0.00083237 0.00063807 0.00090523\n",
            " 0.00072639 0.0008147  0.00081249 0.00041949 0.00082795 0.00060937\n",
            " 0.00025832 0.00037534 0.00038858 0.00039521 0.00025832 0.00030469\n",
            " 0.00137234 0.00140336 0.00149454 0.00162354 0.00177146 0.00192601\n",
            " 0.00208042 0.00223163 0.00237865 0.00252147 0.00266042 0.00279592\n",
            " 0.00292834 0.00305797 0.00318501 0.00330961 0.00343187 0.00355189\n",
            " 0.00366972 0.00378541 0.00389901 0.00401057]\n",
            "22 day output [[0.0041201]]\n",
            "23 day input [0.00436495 0.00393    0.00366727 0.00340674 0.00381298 0.00368714\n",
            " 0.00415962 0.00430313 0.00357674 0.00324777 0.00324115 0.00333609\n",
            " 0.00324777 0.00330738 0.00302036 0.00314621 0.00290555 0.00370701\n",
            " 0.00305348 0.00340895 0.00376883 0.003537   0.00368934 0.00390351\n",
            " 0.00435391 0.00447093 0.0038174  0.00378428 0.00379091 0.00437378\n",
            " 0.00461223 0.00298724 0.003144   0.00301153 0.00427884 0.00470938\n",
            " 0.00459236 0.0033957  0.00336479 0.00384169 0.00256554 0.00260749\n",
            " 0.00390351 0.00433404 0.00378649 0.00293205 0.00395208 0.00381078\n",
            " 0.00236904 0.00197825 0.00221449 0.0021063  0.00193188 0.00176409\n",
            " 0.00057184 0.00141745 0.00136225 0.00117679 0.00098692 0.00111056\n",
            " 0.00108185 0.00104653 0.00083237 0.00063807 0.00090523 0.00072639\n",
            " 0.0008147  0.00081249 0.00041949 0.00082795 0.00060937 0.00025832\n",
            " 0.00037534 0.00038858 0.00039521 0.00025832 0.00030469 0.00137234\n",
            " 0.00140336 0.00149454 0.00162354 0.00177146 0.00192601 0.00208042\n",
            " 0.00223163 0.00237865 0.00252147 0.00266042 0.00279592 0.00292834\n",
            " 0.00305797 0.00318501 0.00330961 0.00343187 0.00355189 0.00366972\n",
            " 0.00378541 0.00389901 0.00401057 0.0041201 ]\n",
            "23 day output [[0.00422767]]\n",
            "24 day input [0.00393    0.00366727 0.00340674 0.00381298 0.00368714 0.00415962\n",
            " 0.00430313 0.00357674 0.00324777 0.00324115 0.00333609 0.00324777\n",
            " 0.00330738 0.00302036 0.00314621 0.00290555 0.00370701 0.00305348\n",
            " 0.00340895 0.00376883 0.003537   0.00368934 0.00390351 0.00435391\n",
            " 0.00447093 0.0038174  0.00378428 0.00379091 0.00437378 0.00461223\n",
            " 0.00298724 0.003144   0.00301153 0.00427884 0.00470938 0.00459236\n",
            " 0.0033957  0.00336479 0.00384169 0.00256554 0.00260749 0.00390351\n",
            " 0.00433404 0.00378649 0.00293205 0.00395208 0.00381078 0.00236904\n",
            " 0.00197825 0.00221449 0.0021063  0.00193188 0.00176409 0.00057184\n",
            " 0.00141745 0.00136225 0.00117679 0.00098692 0.00111056 0.00108185\n",
            " 0.00104653 0.00083237 0.00063807 0.00090523 0.00072639 0.0008147\n",
            " 0.00081249 0.00041949 0.00082795 0.00060937 0.00025832 0.00037534\n",
            " 0.00038858 0.00039521 0.00025832 0.00030469 0.00137234 0.00140336\n",
            " 0.00149454 0.00162354 0.00177146 0.00192601 0.00208042 0.00223163\n",
            " 0.00237865 0.00252147 0.00266042 0.00279592 0.00292834 0.00305797\n",
            " 0.00318501 0.00330961 0.00343187 0.00355189 0.00366972 0.00378541\n",
            " 0.00389901 0.00401057 0.0041201  0.00422767]\n",
            "24 day output [[0.00433329]]\n",
            "25 day input [0.00366727 0.00340674 0.00381298 0.00368714 0.00415962 0.00430313\n",
            " 0.00357674 0.00324777 0.00324115 0.00333609 0.00324777 0.00330738\n",
            " 0.00302036 0.00314621 0.00290555 0.00370701 0.00305348 0.00340895\n",
            " 0.00376883 0.003537   0.00368934 0.00390351 0.00435391 0.00447093\n",
            " 0.0038174  0.00378428 0.00379091 0.00437378 0.00461223 0.00298724\n",
            " 0.003144   0.00301153 0.00427884 0.00470938 0.00459236 0.0033957\n",
            " 0.00336479 0.00384169 0.00256554 0.00260749 0.00390351 0.00433404\n",
            " 0.00378649 0.00293205 0.00395208 0.00381078 0.00236904 0.00197825\n",
            " 0.00221449 0.0021063  0.00193188 0.00176409 0.00057184 0.00141745\n",
            " 0.00136225 0.00117679 0.00098692 0.00111056 0.00108185 0.00104653\n",
            " 0.00083237 0.00063807 0.00090523 0.00072639 0.0008147  0.00081249\n",
            " 0.00041949 0.00082795 0.00060937 0.00025832 0.00037534 0.00038858\n",
            " 0.00039521 0.00025832 0.00030469 0.00137234 0.00140336 0.00149454\n",
            " 0.00162354 0.00177146 0.00192601 0.00208042 0.00223163 0.00237865\n",
            " 0.00252147 0.00266042 0.00279592 0.00292834 0.00305797 0.00318501\n",
            " 0.00330961 0.00343187 0.00355189 0.00366972 0.00378541 0.00389901\n",
            " 0.00401057 0.0041201  0.00422767 0.00433329]\n",
            "25 day output [[0.00443701]]\n",
            "26 day input [0.00340674 0.00381298 0.00368714 0.00415962 0.00430313 0.00357674\n",
            " 0.00324777 0.00324115 0.00333609 0.00324777 0.00330738 0.00302036\n",
            " 0.00314621 0.00290555 0.00370701 0.00305348 0.00340895 0.00376883\n",
            " 0.003537   0.00368934 0.00390351 0.00435391 0.00447093 0.0038174\n",
            " 0.00378428 0.00379091 0.00437378 0.00461223 0.00298724 0.003144\n",
            " 0.00301153 0.00427884 0.00470938 0.00459236 0.0033957  0.00336479\n",
            " 0.00384169 0.00256554 0.00260749 0.00390351 0.00433404 0.00378649\n",
            " 0.00293205 0.00395208 0.00381078 0.00236904 0.00197825 0.00221449\n",
            " 0.0021063  0.00193188 0.00176409 0.00057184 0.00141745 0.00136225\n",
            " 0.00117679 0.00098692 0.00111056 0.00108185 0.00104653 0.00083237\n",
            " 0.00063807 0.00090523 0.00072639 0.0008147  0.00081249 0.00041949\n",
            " 0.00082795 0.00060937 0.00025832 0.00037534 0.00038858 0.00039521\n",
            " 0.00025832 0.00030469 0.00137234 0.00140336 0.00149454 0.00162354\n",
            " 0.00177146 0.00192601 0.00208042 0.00223163 0.00237865 0.00252147\n",
            " 0.00266042 0.00279592 0.00292834 0.00305797 0.00318501 0.00330961\n",
            " 0.00343187 0.00355189 0.00366972 0.00378541 0.00389901 0.00401057\n",
            " 0.0041201  0.00422767 0.00433329 0.00443701]\n",
            "26 day output [[0.00453888]]\n",
            "27 day input [0.00381298 0.00368714 0.00415962 0.00430313 0.00357674 0.00324777\n",
            " 0.00324115 0.00333609 0.00324777 0.00330738 0.00302036 0.00314621\n",
            " 0.00290555 0.00370701 0.00305348 0.00340895 0.00376883 0.003537\n",
            " 0.00368934 0.00390351 0.00435391 0.00447093 0.0038174  0.00378428\n",
            " 0.00379091 0.00437378 0.00461223 0.00298724 0.003144   0.00301153\n",
            " 0.00427884 0.00470938 0.00459236 0.0033957  0.00336479 0.00384169\n",
            " 0.00256554 0.00260749 0.00390351 0.00433404 0.00378649 0.00293205\n",
            " 0.00395208 0.00381078 0.00236904 0.00197825 0.00221449 0.0021063\n",
            " 0.00193188 0.00176409 0.00057184 0.00141745 0.00136225 0.00117679\n",
            " 0.00098692 0.00111056 0.00108185 0.00104653 0.00083237 0.00063807\n",
            " 0.00090523 0.00072639 0.0008147  0.00081249 0.00041949 0.00082795\n",
            " 0.00060937 0.00025832 0.00037534 0.00038858 0.00039521 0.00025832\n",
            " 0.00030469 0.00137234 0.00140336 0.00149454 0.00162354 0.00177146\n",
            " 0.00192601 0.00208042 0.00223163 0.00237865 0.00252147 0.00266042\n",
            " 0.00279592 0.00292834 0.00305797 0.00318501 0.00330961 0.00343187\n",
            " 0.00355189 0.00366972 0.00378541 0.00389901 0.00401057 0.0041201\n",
            " 0.00422767 0.00433329 0.00443701 0.00453888]\n",
            "27 day output [[0.00463892]]\n",
            "28 day input [0.00368714 0.00415962 0.00430313 0.00357674 0.00324777 0.00324115\n",
            " 0.00333609 0.00324777 0.00330738 0.00302036 0.00314621 0.00290555\n",
            " 0.00370701 0.00305348 0.00340895 0.00376883 0.003537   0.00368934\n",
            " 0.00390351 0.00435391 0.00447093 0.0038174  0.00378428 0.00379091\n",
            " 0.00437378 0.00461223 0.00298724 0.003144   0.00301153 0.00427884\n",
            " 0.00470938 0.00459236 0.0033957  0.00336479 0.00384169 0.00256554\n",
            " 0.00260749 0.00390351 0.00433404 0.00378649 0.00293205 0.00395208\n",
            " 0.00381078 0.00236904 0.00197825 0.00221449 0.0021063  0.00193188\n",
            " 0.00176409 0.00057184 0.00141745 0.00136225 0.00117679 0.00098692\n",
            " 0.00111056 0.00108185 0.00104653 0.00083237 0.00063807 0.00090523\n",
            " 0.00072639 0.0008147  0.00081249 0.00041949 0.00082795 0.00060937\n",
            " 0.00025832 0.00037534 0.00038858 0.00039521 0.00025832 0.00030469\n",
            " 0.00137234 0.00140336 0.00149454 0.00162354 0.00177146 0.00192601\n",
            " 0.00208042 0.00223163 0.00237865 0.00252147 0.00266042 0.00279592\n",
            " 0.00292834 0.00305797 0.00318501 0.00330961 0.00343187 0.00355189\n",
            " 0.00366972 0.00378541 0.00389901 0.00401057 0.0041201  0.00422767\n",
            " 0.00433329 0.00443701 0.00453888 0.00463892]\n",
            "28 day output [[0.00473717]]\n",
            "29 day input [0.00415962 0.00430313 0.00357674 0.00324777 0.00324115 0.00333609\n",
            " 0.00324777 0.00330738 0.00302036 0.00314621 0.00290555 0.00370701\n",
            " 0.00305348 0.00340895 0.00376883 0.003537   0.00368934 0.00390351\n",
            " 0.00435391 0.00447093 0.0038174  0.00378428 0.00379091 0.00437378\n",
            " 0.00461223 0.00298724 0.003144   0.00301153 0.00427884 0.00470938\n",
            " 0.00459236 0.0033957  0.00336479 0.00384169 0.00256554 0.00260749\n",
            " 0.00390351 0.00433404 0.00378649 0.00293205 0.00395208 0.00381078\n",
            " 0.00236904 0.00197825 0.00221449 0.0021063  0.00193188 0.00176409\n",
            " 0.00057184 0.00141745 0.00136225 0.00117679 0.00098692 0.00111056\n",
            " 0.00108185 0.00104653 0.00083237 0.00063807 0.00090523 0.00072639\n",
            " 0.0008147  0.00081249 0.00041949 0.00082795 0.00060937 0.00025832\n",
            " 0.00037534 0.00038858 0.00039521 0.00025832 0.00030469 0.00137234\n",
            " 0.00140336 0.00149454 0.00162354 0.00177146 0.00192601 0.00208042\n",
            " 0.00223163 0.00237865 0.00252147 0.00266042 0.00279592 0.00292834\n",
            " 0.00305797 0.00318501 0.00330961 0.00343187 0.00355189 0.00366972\n",
            " 0.00378541 0.00389901 0.00401057 0.0041201  0.00422767 0.00433329\n",
            " 0.00443701 0.00453888 0.00463892 0.00473717]\n",
            "29 day output [[0.00483369]]\n",
            "[[0.0013723354786634445], [0.0014033587649464607], [0.0014945408329367638], [0.0016235350631177425], [0.001771463081240654], [0.0019260072149336338], [0.0020804195664823055], [0.0022316300310194492], [0.00237865187227726], [0.002521471120417118], [0.002660416066646576], [0.0027959193103015423], [0.0029283412732183933], [0.003057971131056547], [0.003185007721185684], [0.003309606108814478], [0.003431874793022871], [0.0035518896766006947], [0.0036697164177894592], [0.0037854115944355726], [0.0038990145549178123], [0.004010569304227829], [0.0041200993582606316], [0.004227668046951294], [0.0043332925997674465], [0.004437013529241085], [0.004538878798484802], [0.004638921469449997], [0.004737171344459057], [0.004833688028156757]]\n"
          ]
        }
      ],
      "source": [
        "# demonstrate prediction for next 10 days\n",
        "from numpy import array\n",
        "\n",
        "lst_output=[]\n",
        "n_steps=100\n",
        "i=0\n",
        "while(i<30):\n",
        "\n",
        "    if(len(temp_input)>100):\n",
        "        #print(temp_input)\n",
        "        x_input=np.array(temp_input[1:])\n",
        "        print(\"{} day input {}\".format(i,x_input))\n",
        "        x_input=x_input.reshape(1,-1)\n",
        "        x_input = x_input.reshape((1, n_steps, 1))\n",
        "        #print(x_input)\n",
        "        yhat = model.predict(x_input, verbose=0)\n",
        "        print(\"{} day output {}\".format(i,yhat))\n",
        "        temp_input.extend(yhat[0].tolist())\n",
        "        temp_input=temp_input[1:]\n",
        "        #print(temp_input)\n",
        "        lst_output.extend(yhat.tolist())\n",
        "        i=i+1\n",
        "    else:\n",
        "        x_input = x_input.reshape((1, n_steps,1))\n",
        "        yhat = model.predict(x_input, verbose=0)\n",
        "        print(yhat[0])\n",
        "        temp_input.extend(yhat[0].tolist())\n",
        "        print(len(temp_input))\n",
        "        lst_output.extend(yhat.tolist())\n",
        "        i=i+1\n",
        "\n",
        "\n",
        "print(lst_output)"
      ]
    },
    {
      "cell_type": "code",
      "execution_count": null,
      "metadata": {
        "id": "c7rctOuQb19_"
      },
      "outputs": [],
      "source": [
        "day_new=np.arange(1,101)\n",
        "day_pred=np.arange(101,131)"
      ]
    },
    {
      "cell_type": "code",
      "execution_count": null,
      "metadata": {
        "id": "UgEDDKE7b1-A"
      },
      "outputs": [],
      "source": [
        "import matplotlib.pyplot as plt"
      ]
    },
    {
      "cell_type": "code",
      "execution_count": null,
      "metadata": {
        "colab": {
          "base_uri": "https://localhost:8080/"
        },
        "id": "yQLeHhULb1-A",
        "outputId": "2f8afbb6-3a26-4da2-fec1-88524e252e4b"
      },
      "outputs": [
        {
          "output_type": "execute_result",
          "data": {
            "text/plain": [
              "3985"
            ]
          },
          "metadata": {},
          "execution_count": 64
        }
      ],
      "source": [
        "len(df1)"
      ]
    },
    {
      "cell_type": "code",
      "execution_count": null,
      "metadata": {
        "id": "G9odhsiqb1-A"
      },
      "outputs": [],
      "source": []
    },
    {
      "cell_type": "code",
      "execution_count": null,
      "metadata": {
        "colab": {
          "base_uri": "https://localhost:8080/",
          "height": 447
        },
        "id": "zfNd6Rujb1-B",
        "outputId": "72c854a2-50e3-42b9-c854-7f20ccfce37c"
      },
      "outputs": [
        {
          "output_type": "execute_result",
          "data": {
            "text/plain": [
              "[<matplotlib.lines.Line2D at 0x7fcc9f6d5000>]"
            ]
          },
          "metadata": {},
          "execution_count": 65
        },
        {
          "output_type": "display_data",
          "data": {
            "text/plain": [
              "<Figure size 640x480 with 1 Axes>"
            ],
            "image/png": "[encoded data removed]"
          },
          "metadata": {}
        }
      ],
      "source": [
        "plt.plot(day_new,scaler.inverse_transform(df1[3885:]))\n",
        "plt.plot(day_pred,scaler.inverse_transform(lst_output))"
      ]
    },
    {
      "cell_type": "code",
      "execution_count": null,
      "metadata": {
        "colab": {
          "base_uri": "https://localhost:8080/",
          "height": 447
        },
        "id": "4EeApCo-b1-B",
        "outputId": "0bc79ebe-3864-4ed7-ceb6-59320483e536"
      },
      "outputs": [
        {
          "output_type": "execute_result",
          "data": {
            "text/plain": [
              "[<matplotlib.lines.Line2D at 0x7fcc9f6b4a60>]"
            ]
          },
          "metadata": {},
          "execution_count": 66
        },
        {
          "output_type": "display_data",
          "data": {
            "text/plain": [
              "<Figure size 640x480 with 1 Axes>"
            ],
            "image/png": "[encoded data removed]"
          },
          "metadata": {}
        }
      ],
      "source": [
        "df3=df1.tolist()\n",
        "df3.extend(lst_output)\n",
        "plt.plot(df3[3000:])"
      ]
    },
    {
      "cell_type": "code",
      "execution_count": null,
      "metadata": {
        "id": "_WseXAgAb1-B"
      },
      "outputs": [],
      "source": [
        "df3=scaler.inverse_transform(df3).tolist()"
      ]
    },
    {
      "cell_type": "code",
      "execution_count": null,
      "metadata": {
        "colab": {
          "base_uri": "https://localhost:8080/",
          "height": 447
        },
        "id": "KMIvGb2hb1-C",
        "outputId": "60e2781b-aec2-43ba-e472-ca9f0c9e64eb"
      },
      "outputs": [
        {
          "output_type": "execute_result",
          "data": {
            "text/plain": [
              "[<matplotlib.lines.Line2D at 0x7fcca4d66590>]"
            ]
          },
          "metadata": {},
          "execution_count": 68
        },
        {
          "output_type": "display_data",
          "data": {
            "text/plain": [
              "<Figure size 640x480 with 1 Axes>"
            ],
            "image/png": "[encoded data removed]"
          },
          "metadata": {}
        }
      ],
      "source": [
        "plt.plot(df3)"
      ]
    }
  ],
  "metadata": {
    "kernelspec": {
      "display_name": "Python 3",
      "language": "python",
      "name": "python3"
    },
    "language_info": {
      "codemirror_mode": {
        "name": "ipython",
        "version": 3
      },
      "file_extension": ".py",
      "mimetype": "text/x-python",
      "name": "python",
      "nbconvert_exporter": "python",
      "pygments_lexer": "ipython3",
      "version": "3.6.9"
    },
    "colab": {
      "provenance": []
    }
  },
  "nbformat": 4,
  "nbformat_minor": 0
}